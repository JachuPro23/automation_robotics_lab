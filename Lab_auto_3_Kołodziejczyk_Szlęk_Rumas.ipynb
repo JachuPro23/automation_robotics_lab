{
  "cells": [
    {
      "cell_type": "markdown",
      "metadata": {
        "id": "view-in-github",
        "colab_type": "text"
      },
      "source": [
        "<a href=\"https://colab.research.google.com/github/JachuPro23/automation_robotics_lab/blob/master/Lab_auto_3_Ko%C5%82odziejczyk_Szl%C4%99k_Rumas.ipynb\" target=\"_parent\"><img src=\"https://colab.research.google.com/assets/colab-badge.svg\" alt=\"Open In Colab\"/></a>"
      ]
    },
    {
      "cell_type": "code",
      "execution_count": null,
      "metadata": {
        "id": "-1rAR-_1oY5A",
        "colab": {
          "base_uri": "https://localhost:8080/"
        },
        "outputId": "097fa7f3-7c6e-4675-ebf7-7f96ca7971da"
      },
      "outputs": [
        {
          "output_type": "stream",
          "name": "stdout",
          "text": [
            "Requirement already satisfied: pulp in /usr/local/lib/python3.11/dist-packages (3.2.1)\n"
          ]
        }
      ],
      "source": [
        "!pip install pulp"
      ]
    },
    {
      "cell_type": "markdown",
      "source": [
        "### REPORT LAB 3\n",
        "### Kacper Kołodziejczyk 250185\n",
        "### Jan Szlęk 250195\n",
        "### Sewer Rumas 250191"
      ],
      "metadata": {
        "id": "WPcfupI8H-3I"
      }
    },
    {
      "cell_type": "markdown",
      "metadata": {
        "id": "Uayb-fZOoY5F"
      },
      "source": [
        "# Integer Programming\n",
        "\n",
        "Integer programming is a mathematical optimization technique used when some or all of the variables in a linear programming problem must take integer values. When all variables must be either 0 or 1 (binary), we call it Binary Integer Programming.\n",
        "\n",
        "## Common applications of Integer Programming:\n",
        "\n",
        "1. **Facility location problems** - deciding where to build facilities\n",
        "2. **Resource allocation** - assigning limited resources to tasks\n",
        "3. **Scheduling** - allocating time slots to activities\n",
        "4. **Transportation and logistics** - optimizing routes and shipments\n",
        "5. **Manufacturing** - production planning and inventory control\n",
        "6. **Financial planning** - portfolio optimization with discrete investments"
      ]
    },
    {
      "cell_type": "markdown",
      "metadata": {
        "id": "qv3UU9f-oY5H"
      },
      "source": [
        "## Example 1: Facility Location Problem\n",
        "\n",
        "Our company already has factories in two cities (City A and City B) and is considering expanding them. We also want to build a warehouse (only one).\n",
        "\n",
        "Decision variables:\n",
        "- Build factory in City A? (x1): Added value: $9 million, capital required: $6 million\n",
        "- Build factory in City B? (x2): Added value: $5 million, capital required: $3 million\n",
        "- Build warehouse in City A? (x3): Added value: $6 million, capital required: $5 million\n",
        "- Build warehouse in City B? (x4): Added value: $4 million, capital required: $2 million\n",
        "\n",
        "Available capital: $10 million\n",
        "\n",
        "Additional constraint: A warehouse can only be built in a city if there is also a factory there.\n",
        "\n",
        "\n",
        "\n",
        "\n",
        "![image](https://github.com/AdoHaha/automation_robotics_lab/blob/master/lab3a_expl.png?raw=1)\n"
      ]
    },
    {
      "cell_type": "code",
      "execution_count": null,
      "metadata": {
        "id": "9zOIeV86oY5I"
      },
      "outputs": [],
      "source": [
        "    # Let's visualize the problem:\n",
        "    #\n",
        "    #                 City A                  City B\n",
        "    #                 ------                 ------\n",
        "    # Factory:     $9M value              $5M value\n",
        "    #              $6M cost               $3M cost\n",
        "    #                  |                      |\n",
        "    #                  v                      v\n",
        "    # Warehouse:   $6M value              $4M value\n",
        "    #              $5M cost               $2M cost\n",
        "    #\n",
        "    # Total capital available: $10M\n",
        "    # Must choose max 1 warehouse, and only where factory exists"
      ]
    },
    {
      "cell_type": "code",
      "execution_count": null,
      "metadata": {
        "id": "f7vdcHIdoY5I"
      },
      "outputs": [],
      "source": [
        "import pulp\n",
        "from pulp import *\n",
        "\n",
        "# Create the model\n",
        "prob = LpProblem(\"Facility_Location_Problem\", LpMaximize)"
      ]
    },
    {
      "cell_type": "code",
      "execution_count": null,
      "metadata": {
        "id": "9yxsvid4oY5J"
      },
      "outputs": [],
      "source": [
        "# Decision variables (binary: 0 or 1)\n",
        "x1 = LpVariable(\"Factory_CityA\", cat=LpBinary)\n",
        "x2 = LpVariable(\"Factory_CityB\", cat=LpBinary)\n",
        "x3 = LpVariable(\"Warehouse_CityA\", cat=LpBinary)\n",
        "x4 = LpVariable(\"Warehouse_CityB\", cat=LpBinary)"
      ]
    },
    {
      "cell_type": "code",
      "execution_count": null,
      "metadata": {
        "id": "yp-S0iFJoY5K"
      },
      "outputs": [],
      "source": [
        "# Objective function: maximize total value\n",
        "prob += 9*x1 + 5*x2 + 6*x3 + 4*x4, \"Total_Added_Value\""
      ]
    },
    {
      "cell_type": "code",
      "execution_count": null,
      "metadata": {
        "id": "C-IPreLooY5K"
      },
      "outputs": [],
      "source": [
        "# Constraints\n",
        "# 1. Capital constraint\n",
        "prob += 6*x1 + 3*x2 + 5*x3 + 2*x4 <= 10, \"Available_Capital\"\n",
        "\n",
        "# 2. Only one warehouse\n",
        "prob += x3 + x4 <= 1, \"Maximum_One_Warehouse\"\n",
        "\n",
        "# 3. Warehouse can only be built if factory exists in same city\n",
        "prob += x1 - x3 >= 0, \"CityA_Warehouse_Requires_Factory\"\n",
        "prob += x2 - x4 >= 0, \"CityB_Warehouse_Requires_Factory\""
      ]
    },
    {
      "cell_type": "code",
      "execution_count": null,
      "metadata": {
        "id": "m-B1U3HuoY5L"
      },
      "outputs": [],
      "source": [
        "# Helper function to print the solution\n",
        "def print_solution(p):\n",
        "    p.solve()\n",
        "    print(\"Status:\", LpStatus[p.status])\n",
        "    for v in p.variables():\n",
        "        print(v.name, \"=\", v.varValue)\n",
        "    print(\"Objective value =\", value(p.objective))"
      ]
    },
    {
      "cell_type": "code",
      "execution_count": null,
      "metadata": {
        "id": "nKx89NYtoY5M",
        "colab": {
          "base_uri": "https://localhost:8080/"
        },
        "outputId": "a500ff5e-1cde-4efa-c7fe-4dd651da76dd"
      },
      "outputs": [
        {
          "output_type": "stream",
          "name": "stdout",
          "text": [
            "Status: Optimal\n",
            "Factory_CityA = 1.0\n",
            "Factory_CityB = 1.0\n",
            "Warehouse_CityA = 0.0\n",
            "Warehouse_CityB = 0.0\n",
            "Objective value = 14.0\n"
          ]
        }
      ],
      "source": [
        "# Solve the problem\n",
        "print_solution(prob)"
      ]
    },
    {
      "cell_type": "markdown",
      "metadata": {
        "id": "TDDivHukoY5N"
      },
      "source": [
        "## Binary Problems\n",
        "\n",
        "Binary integer programming is used for \"yes/no\" decision problems such as:\n",
        "- Which route to choose\n",
        "- Which truck to use\n",
        "- Whether to make an investment\n",
        "\n",
        "We can also model more complex logical conditions using binary variables."
      ]
    },
    {
      "cell_type": "markdown",
      "metadata": {
        "id": "o7jQBgSboY5N"
      },
      "source": [
        "## Example 2: Modeling Logical Constraints\n",
        "\n",
        "Sometimes we need to model that ONE of two constraints must be satisfied, but not necessarily both.\n",
        "\n",
        "For example, maximize x + y where 0 ≤ x ≤ 10, 0 ≤ y ≤ 10, and EITHER (x + y ≤ 3) OR (3y + x ≤ 3).\n",
        "\n",
        "We can use a binary variable z to implement this logical OR:"
      ]
    },
    {
      "cell_type": "code",
      "execution_count": null,
      "metadata": {
        "id": "PnZegfZNoY5O",
        "colab": {
          "base_uri": "https://localhost:8080/"
        },
        "outputId": "f94d5262-9826-49fa-e225-d6087a343f66"
      },
      "outputs": [
        {
          "output_type": "stream",
          "name": "stdout",
          "text": [
            "Status: Optimal\n",
            "ignore_first_constraint = 1.0\n",
            "x = 4.3333333\n",
            "y = 10.0\n",
            "Objective value = 14.3333333\n",
            "Alternative_Constraints_Problem:\n",
            "MAXIMIZE\n",
            "1*x + 1*y + 0\n",
            "SUBJECT TO\n",
            "first_constraint: - 10000 ignore_first_constraint + x + y <= 3\n",
            "\n",
            "second_constraint: 10000 ignore_first_constraint + 3 x - y <= 10003\n",
            "\n",
            "VARIABLES\n",
            "0 <= ignore_first_constraint <= 1 Integer\n",
            "x <= 10 Continuous\n",
            "y <= 10 Continuous\n",
            "\n"
          ]
        }
      ],
      "source": [
        "prob2 = LpProblem(\"Alternative_Constraints_Problem\", LpMaximize)\n",
        "\n",
        "# Continuous variables\n",
        "x = LpVariable(\"x\", 0, 10, cat=LpContinuous)\n",
        "y = LpVariable(\"y\", 0, 10, cat=LpContinuous)\n",
        "\n",
        "# Binary variable to implement logical OR\n",
        "z = LpVariable(\"ignore_first_constraint\", cat=LpBinary)\n",
        "\n",
        "# Objective function\n",
        "prob2 += x + y, \"Simple_Sum\"\n",
        "\n",
        "# If z=1, first constraint is relaxed (ignored)\n",
        "# If z=0, second constraint is relaxed (ignored)\n",
        "M = 10000  # A very large number\n",
        "prob2 += x + y <= 3 + M*z, \"first_constraint\"\n",
        "prob2 += 3*x - y <= 3 + M*(1-z), \"second_constraint\"\n",
        "\n",
        "# Solve and display results\n",
        "print_solution(prob2)\n",
        "print(prob2)"
      ]
    },
    {
      "cell_type": "markdown",
      "metadata": {
        "id": "1DMmFW-XoY5O"
      },
      "source": [
        "## Example 3: Scheduling Problem\n",
        "\n",
        "Let's consider a scheduling problem where we need to assign employees to workdays.\n",
        "\n",
        "### Problem description:\n",
        "- We have three employees: Anna, Kate, and Peter\n",
        "- Each employee can work up to 3 days per week\n",
        "- Daily rates are: Anna ($150), Kate ($160), Peter ($140)\n",
        "- Anna can't work on Monday, Peter can't work on Thursday and Friday\n",
        "- On Tuesday we need 2 employees, on other days we need 1 employee\n",
        "- Goal: minimize the total cost\n",
        "\n",
        "This is a perfect application for integer programming with binary variables."
      ]
    },
    {
      "cell_type": "code",
      "execution_count": null,
      "metadata": {
        "id": "Wx6bn_oioY5P"
      },
      "outputs": [],
      "source": [
        "prob3 = LpProblem(\"Scheduling_Problem\", LpMinimize)\n",
        "\n",
        "# Define data\n",
        "days = [\"mon\", \"tue\", \"wed\", \"thu\", \"fri\"]\n",
        "employees = [\"Anna\", \"Kate\", \"Peter\"]\n",
        "costs = [150, 160, 140]  # daily rates\n",
        "\n",
        "# Create binary decision variables for each employee on each day\n",
        "schedule = LpVariable.dicts(\"Schedule\", (employees, days), cat=\"Binary\")"
      ]
    },
    {
      "cell_type": "code",
      "execution_count": null,
      "metadata": {
        "id": "tbrcRFrVoY5P"
      },
      "outputs": [],
      "source": [
        "# Objective function: minimize total cost\n",
        "prob3 += lpSum([costs[i] * lpSum([schedule[employee][day] for day in days])\n",
        "                for i, employee in enumerate(employees)])"
      ]
    },
    {
      "cell_type": "code",
      "execution_count": null,
      "metadata": {
        "id": "EbgiU04AoY5P"
      },
      "outputs": [],
      "source": [
        "# Constraint: required number of employees each day\n",
        "required_employees = [1, 2, 1, 1, 1]  # mon, tue, wed, thu, fri\n",
        "for day, required in zip(days, required_employees):\n",
        "    prob3 += lpSum([schedule[employee][day] for employee in employees]) == required\n",
        "\n",
        "# Constraint: employee availability\n",
        "prob3 += schedule[\"Anna\"][\"mon\"] == 0  # Anna can't work Monday\n",
        "prob3 += schedule[\"Peter\"][\"thu\"] == 0  # Peter can't work Thursday\n",
        "prob3 += schedule[\"Peter\"][\"fri\"] == 0  # Peter can't work Friday\n",
        "\n",
        "# Constraint: maximum workdays per employee\n",
        "for employee in employees:\n",
        "    prob3 += lpSum([schedule[employee][day] for day in days]) <= 3"
      ]
    },
    {
      "cell_type": "code",
      "execution_count": null,
      "metadata": {
        "id": "7r78dOsuoY5P",
        "colab": {
          "base_uri": "https://localhost:8080/"
        },
        "outputId": "184191d4-3700-4eb0-b290-f951019c43d7"
      },
      "outputs": [
        {
          "output_type": "stream",
          "name": "stdout",
          "text": [
            "Status: Optimal\n",
            "Schedule_Anna_fri = 1.0\n",
            "Schedule_Anna_mon = 0.0\n",
            "Schedule_Anna_thu = 1.0\n",
            "Schedule_Anna_tue = 1.0\n",
            "Schedule_Anna_wed = 0.0\n",
            "Schedule_Kate_fri = 0.0\n",
            "Schedule_Kate_mon = 0.0\n",
            "Schedule_Kate_thu = 0.0\n",
            "Schedule_Kate_tue = 0.0\n",
            "Schedule_Kate_wed = 0.0\n",
            "Schedule_Peter_fri = 0.0\n",
            "Schedule_Peter_mon = 1.0\n",
            "Schedule_Peter_thu = 0.0\n",
            "Schedule_Peter_tue = 1.0\n",
            "Schedule_Peter_wed = 1.0\n",
            "Objective value = 870.0\n"
          ]
        }
      ],
      "source": [
        "# Solve and print the solution\n",
        "print_solution(prob3)"
      ]
    },
    {
      "cell_type": "markdown",
      "metadata": {
        "id": "Q60yAUvcoY5P"
      },
      "source": [
        "# Excercise 1\n",
        "\n",
        "1) Extend the example to four Emploeeys: there is also Mark, who can work on any day and his rate is the lowest: $100 per day but he can work up to 4 days per week.\n",
        "\n",
        "2) Add a constraint(s) that Mark can work only if Anna is not there (use logical constraint)\n",
        "\n",
        "3) Bonus:  Make the program interactive: add a checkbox to show which employees are available (and which are not)\n"
      ]
    },
    {
      "cell_type": "code",
      "source": [
        "# Install PuLP if needed (uncomment when running in a new environment)\n",
        "# !pip install pulp\n",
        "\n",
        "from pulp import LpProblem, LpVariable, lpSum, LpMinimize, LpStatus, value\n",
        "\n",
        "# Define problem\n",
        "prob3 = LpProblem(\"Scheduling_Problem\", LpMinimize)\n",
        "\n",
        "# Data\n",
        "days = [\"mon\", \"tue\", \"wed\", \"thu\", \"fri\"]\n",
        "employees = [\"Anna\", \"Kate\", \"Peter\", \"Mark\"]\n",
        "costs = [150, 160, 140, 100]  # Corresponds to Anna, Kate, Peter, Mark\n",
        "\n",
        "# Create decision variables\n",
        "schedule = LpVariable.dicts(\"Schedule\", (employees, days), cat=\"Binary\")\n",
        "\n",
        "# Objective: Minimize total cost\n",
        "prob3 += lpSum([costs[i] * lpSum([schedule[employee][day] for day in days])\n",
        "                for i, employee in enumerate(employees)])\n",
        "\n",
        "# Daily staffing requirements\n",
        "required_employees = [1, 2, 1, 1, 1]  # mon, tue, wed, thu, fri\n",
        "for day, required in zip(days, required_employees):\n",
        "    prob3 += lpSum([schedule[employee][day] for employee in employees]) == required\n",
        "\n",
        "# Employee availability constraints\n",
        "prob3 += schedule[\"Anna\"][\"mon\"] == 0\n",
        "prob3 += schedule[\"Peter\"][\"thu\"] == 0\n",
        "prob3 += schedule[\"Peter\"][\"fri\"] == 0\n",
        "\n",
        "# Max workdays per employee\n",
        "for employee in employees:\n",
        "    max_days = 4 if employee == \"Mark\" else 3\n",
        "    prob3 += lpSum([schedule[employee][day] for day in days]) <= max_days\n",
        "\n",
        "# Logical constraint: Mark can work only if Anna is not working\n",
        "for day in days:\n",
        "    prob3 += schedule[\"Mark\"][day] <= 1 - schedule[\"Anna\"][day]\n",
        "\n",
        "# Solve\n",
        "prob3.solve()\n",
        "\n",
        "# Print solution\n",
        "print(f\"Status: {LpStatus[prob3.status]}\")\n",
        "for employee in employees:\n",
        "    for day in days:\n",
        "        if schedule[employee][day].varValue == 1:\n",
        "            print(f\"{employee} works on {day}\")\n",
        "print(f\"Total Cost = ${value(prob3.objective)}\")\n"
      ],
      "metadata": {
        "id": "sI1UoXcKpwLf",
        "colab": {
          "base_uri": "https://localhost:8080/"
        },
        "outputId": "b261962c-e870-48de-f238-f1c4675e49a5"
      },
      "execution_count": null,
      "outputs": [
        {
          "output_type": "stream",
          "name": "stdout",
          "text": [
            "Status: Optimal\n",
            "Peter works on tue\n",
            "Peter works on wed\n",
            "Mark works on mon\n",
            "Mark works on tue\n",
            "Mark works on thu\n",
            "Mark works on fri\n",
            "Total Cost = $680.0\n"
          ]
        }
      ]
    },
    {
      "cell_type": "markdown",
      "source": [
        "###EXPLANATION\n",
        "\n",
        "In this exercise, We modeled a weekly employee scheduling problem using binary decision variables to minimize labor costs while fulfilling daily staffing needs and honoring constraints.\n",
        "\n",
        "#### Problem Setup\n",
        "\n",
        "We have **4 employees**: Anna, Kate, Peter, and Mark. Each has a different daily cost:\n",
        "- Anna: \\$150\n",
        "- Kate: \\$160\n",
        "- Peter: \\$140\n",
        "- Mark: \\$100\n",
        "\n",
        "The week is modeled as 5 days: **Monday to Friday**.\n",
        "\n",
        "#### Objective\n",
        "\n",
        "The goal is to **minimize total labor cost** while meeting the required number of workers for each day.\n",
        "\n",
        "#### Decision Variables\n",
        "\n",
        "Binary variables are used to define the schedule:\n",
        "\n",
        "Schedule[employee][day] = 1 if employee works on that day, else 0\n",
        "\n",
        "\n",
        "#### Constraints\n",
        "\n",
        "1. **Daily Staffing Requirements**:\n",
        "   - Monday: 1 employee\n",
        "   - Tuesday: 2 employees\n",
        "   - Wednesday: 1 employee\n",
        "   - Thursday: 1 employee\n",
        "   - Friday: 1 employee\n",
        "\n",
        "2. **Employee Availability**:\n",
        "   - Anna is **unavailable on Monday**.\n",
        "   - Peter is **unavailable on Thursday and Friday**.\n",
        "\n",
        "3. **Maximum Days per Employee**:\n",
        "   - Mark can work **up to 4 days**.\n",
        "   - All others (Anna, Kate, Peter) can work **up to 3 days**.\n",
        "\n",
        "4. **Logical Constraint**:\n",
        "   - **Mark can only work on a day if Anna is not working on that day.**\n",
        "   - This models a mutual exclusion relationship between Mark and Anna.\n",
        "\n",
        "#### Results\n",
        "\n",
        "After solving the optimization model using PuLP, the program prints:\n",
        "- The **status** of the solver (e.g., Optimal),\n",
        "- Each employee's working days,\n",
        "- The **total cost** of the schedule.\n",
        "\n",
        "#### Purpose\n",
        "\n",
        "This type of scheduling model is useful in workforce planning, particularly when:\n",
        "- Employee availability varies,\n",
        "- Cost optimization is crucial,\n",
        "- Certain employees cannot work together (e.g., conflicts, safety rules).\n",
        "\n",
        "It ensures staffing requirements are met at minimum cost, respecting operational and human resource constraints.\n",
        "\n"
      ],
      "metadata": {
        "id": "pa4yYh9J08gA"
      }
    },
    {
      "cell_type": "markdown",
      "metadata": {
        "id": "tA-LIfnAoY5P"
      },
      "source": [
        "## Extension: Hourly Scheduling\n",
        "\n",
        "We can extend the scheduling problem to assign specific hours rather than just days.\n",
        "\n",
        "### Revised problem:\n",
        "- Each employee can work up to 24 hours per week\n",
        "- Hourly rates: Anna ($15), Kate ($16), Peter ($14)\n",
        "- Tuesday requires 12 hours of work, other days require 8 hours\n",
        "- Other constraints remain the same\n",
        "\n",
        "This requires integer (not just binary) variables to represent hours worked."
      ]
    },
    {
      "cell_type": "code",
      "execution_count": null,
      "metadata": {
        "id": "1suNscB-oY5P"
      },
      "outputs": [],
      "source": [
        "from pulp import LpProblem, LpVariable, lpSum, LpMinimize, LpStatus, value, LpInteger\n",
        "\n",
        "prob4 = LpProblem(\"Hourly_Scheduling_Problem\", LpMinimize)\n",
        "\n",
        "# Use integer variables for hours (0 to 24)\n",
        "hours = LpVariable.dicts(\"Hours\", (employees, days), lowBound=0, upBound=24, cat=LpInteger)\n",
        "\n",
        "# Objective: minimize total cost\n",
        "hourly_rates = [15, 16, 14]  # hourly rates\n",
        "prob4 += lpSum([hourly_rates[i] * lpSum([hours[employee][day] for day in days])\n",
        "               for i, employee in enumerate(employees)])\n",
        "\n",
        "# Hours required each day\n",
        "hours_required = [8, 12, 8, 8, 8]  # mon, tue, wed, thu, fri\n",
        "for day, required in zip(days, hours_required):\n",
        "    prob4 += lpSum([hours[employee][day] for employee in employees]) == required\n",
        "\n",
        "# Availability constraints\n",
        "prob4 += hours[\"Anna\"][\"mon\"] == 0  # Anna can't work Monday\n",
        "prob4 += hours[\"Peter\"][\"thu\"] == 0  # Peter can't work Thursday\n",
        "prob4 += hours[\"Peter\"][\"fri\"] == 0  # Peter can't work Friday\n",
        "\n",
        "# Maximum hours per week\n",
        "for employee in employees:\n",
        "    prob4 += lpSum([hours[employee][day] for day in days]) <= 24\n",
        "\n",
        "# Solve and print the solution\n",
        "print_solution(prob4)"
      ]
    },
    {
      "cell_type": "code",
      "execution_count": null,
      "metadata": {
        "id": "N1-va3MdoY5Q"
      },
      "outputs": [],
      "source": [
        "# Excercise 2\n",
        "\n",
        "# 1) Extend the example to four Emploeeys: there is also Mark, who can work on any day and his rate is the lowest: $100 per day but he can work up to 4 days per week.\n",
        "\n",
        "# 2) Add a constraint(s) that Mark can work 5h\n",
        "\n"
      ]
    },
    {
      "cell_type": "code",
      "source": [
        "from pulp import LpProblem, LpVariable, lpSum, LpMinimize, LpStatus, value, LpInteger\n",
        "\n",
        "# Define employees and days\n",
        "employees = [\"Anna\", \"Kate\", \"Peter\", \"Mark\"]\n",
        "days = [\"mon\", \"tue\", \"wed\", \"thu\", \"fri\"]\n",
        "\n",
        "# Define hourly rates for each employee\n",
        "hourly_rates = [15, 16, 14, 10]  # Anna, Kate, Peter, Mark\n",
        "\n",
        "# Define maximum weekly hours for each employee (adjust as needed)\n",
        "max_hours_per_week = 20  # example limit for all employees\n",
        "\n",
        "# Create problem\n",
        "prob4 = LpProblem(\"Hourly_Scheduling_Problem\", LpMinimize)\n",
        "\n",
        "# Define decision variables: hours worked by each employee each day\n",
        "hours = LpVariable.dicts(\"Hours\", (employees, days), lowBound=0, upBound=24, cat=LpInteger)\n",
        "\n",
        "# Objective: Minimize total cost\n",
        "prob4 += lpSum([hourly_rates[i] * lpSum([hours[employee][day] for day in days])\n",
        "               for i, employee in enumerate(employees)])\n",
        "\n",
        "# Daily required hours\n",
        "hours_required = [8, 12, 8, 8, 8]  # mon, tue, wed, thu, fri\n",
        "for day, required in zip(days, hours_required):\n",
        "    prob4 += lpSum([hours[employee][day] for employee in employees]) == required\n",
        "\n",
        "# Availability constraints\n",
        "prob4 += hours[\"Anna\"][\"mon\"] == 0       # Anna can't work Monday\n",
        "prob4 += hours[\"Peter\"][\"thu\"] == 0      # Peter can't work Thursday\n",
        "prob4 += hours[\"Peter\"][\"fri\"] == 0      # Peter can't work Friday\n",
        "\n",
        "# Weekly hour limit for all employees\n",
        "for employee in employees:\n",
        "    prob4 += lpSum([hours[employee][day] for day in days]) <= max_hours_per_week\n",
        "\n",
        "# Mark's special constraints\n",
        "# 1. He can only work 4 days max → binary variables to track which days he works\n",
        "mark_day_work = LpVariable.dicts(\"MarkWorks\", days, 0, 1, cat=LpInteger)\n",
        "\n",
        "# If Mark works on a day, he must work exactly 5 hours\n",
        "for day in days:\n",
        "    prob4 += hours[\"Mark\"][day] == 5 * mark_day_work[day]\n",
        "\n",
        "# Binary variables: whether Anna works on a given day\n",
        "anna_day_work = LpVariable.dicts(\"AnnaWorks\", days, 0, 1, cat=LpInteger)\n",
        "\n",
        "# Link binary variable to actual hours for Anna: if she works, hours > 0\n",
        "for day in days:\n",
        "    prob4 += hours[\"Anna\"][day] <= 24 * anna_day_work[day]\n",
        "    prob4 += hours[\"Anna\"][day] >= 1 * anna_day_work[day]  # Optional: ensures if she works, it's at least 1h\n",
        "\n",
        "# Mark's binary already defined and linked earlier, we just add:\n",
        "# Constraint: Mark and Anna can't work on the same day\n",
        "for day in days:\n",
        "    prob4 += anna_day_work[day] + mark_day_work[day] <= 1\n",
        "\n",
        "\n",
        "# Limit Mark to working on at most 4 days\n",
        "prob4 += lpSum([mark_day_work[day] for day in days]) <= 4\n",
        "\n",
        "# Solve the problem\n",
        "prob4.solve()\n",
        "\n",
        "# Print solution\n",
        "print(\"Status:\", LpStatus[prob4.status])\n",
        "for employee in employees:\n",
        "    print(f\"\\n{employee}'s schedule:\")\n",
        "    for day in days:\n",
        "        print(f\"  {day}: {hours[employee][day].varValue} hours\")\n",
        "print(\"\\nTotal cost: $\", value(prob4.objective))"
      ],
      "metadata": {
        "colab": {
          "base_uri": "https://localhost:8080/"
        },
        "id": "05RBLK6nJyID",
        "outputId": "2518a5a2-0e0d-4c3d-daf7-92f5c8a7b22d"
      },
      "execution_count": null,
      "outputs": [
        {
          "output_type": "stream",
          "name": "stdout",
          "text": [
            "Status: Optimal\n",
            "\n",
            "Anna's schedule:\n",
            "  mon: 0.0 hours\n",
            "  tue: 0.0 hours\n",
            "  wed: 0.0 hours\n",
            "  thu: 0.0 hours\n",
            "  fri: 0.0 hours\n",
            "\n",
            "Kate's schedule:\n",
            "  mon: 0.0 hours\n",
            "  tue: 0.0 hours\n",
            "  wed: 0.0 hours\n",
            "  thu: 3.0 hours\n",
            "  fri: 3.0 hours\n",
            "\n",
            "Peter's schedule:\n",
            "  mon: 8.0 hours\n",
            "  tue: 7.0 hours\n",
            "  wed: 3.0 hours\n",
            "  thu: 0.0 hours\n",
            "  fri: 0.0 hours\n",
            "\n",
            "Mark's schedule:\n",
            "  mon: 0.0 hours\n",
            "  tue: 5.0 hours\n",
            "  wed: 5.0 hours\n",
            "  thu: 5.0 hours\n",
            "  fri: 5.0 hours\n",
            "\n",
            "Total cost: $ 548.0\n"
          ]
        }
      ]
    },
    {
      "cell_type": "markdown",
      "metadata": {
        "id": "tqAi6Kl_oY5Q"
      },
      "source": [
        "### EXPLANATION\n",
        "\n",
        "This problem expands upon a previous scheduling model by introducing **hour-based shifts** rather than binary workday assignments. The objective is to minimize the **total labor cost** while meeting daily workload demands and respecting each employee’s availability and contract constraints.\n",
        "\n",
        "#### Problem Setup\n",
        "\n",
        "We are scheduling 4 employees over 5 weekdays:\n",
        "- **Employees**: Anna, Kate, Peter, Mark\n",
        "- **Hourly wages**:\n",
        "  - Anna: \\$15/hour\n",
        "  - Kate: \\$16/hour\n",
        "  - Peter: \\$14/hour\n",
        "  - Mark: \\$10/hour\n",
        "\n",
        "- **Daily hour requirements**:\n",
        "  - Monday: 8 hours\n",
        "  - Tuesday: 12 hours\n",
        "  - Wednesday: 8 hours\n",
        "  - Thursday: 8 hours\n",
        "  - Friday: 8 hours\n",
        "\n",
        "- **Weekly hour limit per employee**: 20 hours\n",
        "\n",
        "#### Decision Variables\n",
        "\n",
        "- `Hours[employee][day]`: Number of hours each employee works each day (integer between 0 and 24).\n",
        "- `MarkWorks[day]`: Binary variable indicating whether Mark works on a given day.\n",
        "- `AnnaWorks[day]`: Binary variable indicating whether Anna works on a given day.\n",
        "\n",
        "#### Objective Function\n",
        "\n",
        "The goal is to **minimize the total wage cost**, calculated as:\n",
        "\n",
        "Total Cost = ∑ (Hourly Rate × Hours Worked)\n",
        "\n",
        "#### Constraints\n",
        "\n",
        "1. **Daily Hour Requirements**:\n",
        "   - Ensure the total hours worked by all employees each day exactly meet the required number of hours.\n",
        "\n",
        "2. **Employee Availability**:\n",
        "   - Anna is not available on Monday.\n",
        "   - Peter is not available on Thursday and Friday.\n",
        "\n",
        "3. **Weekly Hour Limits**:\n",
        "   - No employee can exceed 20 hours in the week.\n",
        "\n",
        "4. **Special Constraints for Mark**:\n",
        "   - Mark can only work a maximum of 4 days.\n",
        "   - If Mark works on a day, he must work exactly **5 hours**.\n",
        "   - Mark cannot work on the same day as Anna.\n",
        "     - This constraint is modeled by ensuring `MarkWorks[day] + AnnaWorks[day] <= 1`.\n",
        "\n",
        "5. **Binary Work Indicators for Anna**:\n",
        "   - Used to enforce constraints regarding when Anna works and for linking her working status to actual hours.\n",
        "\n",
        "#### Solution Output\n",
        "\n",
        "After solving the problem using PuLP, the model prints:\n",
        "- The solution **status** (e.g., Optimal),\n",
        "- A detailed **schedule** for each employee (hours per day),\n",
        "- The **total cost** of the schedule.\n",
        "\n",
        "#### Applications\n",
        "\n",
        "This model is useful in more realistic scheduling scenarios where:\n",
        "- Employees work **partial shifts**,\n",
        "- Labor cost control is crucial,\n",
        "- Complex availability or exclusivity rules are present.\n",
        "\n",
        "It demonstrates how to combine integer, binary, and logical constraints in a linear programming model.\n",
        "\n",
        "\n",
        "## Conclusion\n",
        "\n",
        "Integer programming is a powerful tool for solving optimization problems with discrete decisions. It's particularly useful in scheduling, where we often need to assign resources (like employees) to specific time slots subject to various constraints.\n",
        "\n",
        "The key benefits include:\n",
        "1. Ability to model logical conditions (AND, OR, IF-THEN)\n",
        "2. Natural representation of indivisible resources\n",
        "3. Optimal solutions for complex constraint satisfaction problems\n",
        "\n",
        "However, integer programming problems can be computationally intensive as the number of variables increases."
      ]
    }
  ],
  "metadata": {
    "kernelspec": {
      "display_name": "base",
      "language": "python",
      "name": "python3"
    },
    "language_info": {
      "codemirror_mode": {
        "name": "ipython",
        "version": 3
      },
      "file_extension": ".py",
      "mimetype": "text/x-python",
      "name": "python",
      "nbconvert_exporter": "python",
      "pygments_lexer": "ipython3",
      "version": "3.7.3"
    },
    "colab": {
      "provenance": [],
      "include_colab_link": true
    }
  },
  "nbformat": 4,
  "nbformat_minor": 0
}