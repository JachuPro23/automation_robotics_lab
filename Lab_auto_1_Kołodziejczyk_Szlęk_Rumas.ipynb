{
  "cells": [
    {
      "cell_type": "markdown",
      "metadata": {
        "id": "view-in-github",
        "colab_type": "text"
      },
      "source": [
        "<a href=\"https://colab.research.google.com/github/JachuPro23/automation_robotics_lab/blob/master/Lab_auto_1_Ko%C5%82odziejczyk_Szl%C4%99k_Rumas.ipynb\" target=\"_parent\"><img src=\"https://colab.research.google.com/assets/colab-badge.svg\" alt=\"Open In Colab\"/></a>"
      ]
    },
    {
      "cell_type": "markdown",
      "metadata": {
        "id": "Pp1mUlx_lULR"
      },
      "source": [
        "# Welcome to the automation lab!\n",
        "\n",
        "The lab is divided into several sections, each focusing on a different aspect of factory control.\n",
        "\n",
        "## Lab Topics\n",
        "\n",
        "**Lab 1: Introduction to Python and PuLP**\n",
        "- Getting familiar with Python environment\n",
        "- Installing and configuring PuLP library\n",
        "- Solving first simple linear programming problem\n",
        "\n",
        "**Lab 2: Advanced Linear Programming and Sensitivity Analysis**\n",
        "- Defining more complex linear programming tasks\n",
        "- Learning different constraint types\n",
        "- Sensitivity analysis\n",
        "\n",
        "**Lab 3: Dynamic Programming - Implementation in Python**\n",
        "- Understanding dynamic programming concepts\n",
        "- Implementing simple DP tasks\n",
        "- Result interpretation in production context\n",
        "\n",
        "**Lab 4: Introduction to Non-linear Optimization**\n",
        "- Understanding differences between linear and non-linear optimization\n",
        "- Getting familiar with scipy.optimize\n",
        "- Solving example non-linear problems\n",
        "\n",
        "**Lab 5: Scheduling with PuLP (Job Shop/Flow Shop Example)**\n",
        "- Modeling scheduling problems as integer programming\n",
        "- Implementing simple flow shop or job shop cases\n",
        "- Understanding computational complexity\n",
        "\n",
        "**Lab 6: Network Methods - CPM/PERT in Python**\n",
        "- Learning critical path method\n",
        "- Implementing algorithms for time calculations\n",
        "- Getting familiar with PERT method\n",
        "\n",
        "**Lab 7: Machine Learning Basics in Python - Regression and Classification**\n",
        "- Learning scikit-learn basics\n",
        "- Data loading, splitting, and model training\n",
        "- Result interpretation and model quality assessment\n",
        "\n",
        "**Lab 8: Methods Integration - Forecasting + Optimization in PuLP**\n",
        "- Showing how ML can provide input data for optimization models\n",
        "- Implementing forecasting and optimization pipeline\n",
        "- Discussing practical aspects of ML and optimization integration\n"
      ]
    },
    {
      "cell_type": "code",
      "execution_count": null,
      "metadata": {
        "id": "QrC1eeIAD4gH"
      },
      "outputs": [],
      "source": [
        "#Report_Lab1\n",
        "#Kacper_Kołodziejczyk_250185\n",
        "#Jan_Szlęk_250195\n",
        "#Sewer_Rumas_250191"
      ]
    },
    {
      "cell_type": "code",
      "execution_count": null,
      "metadata": {
        "id": "YQSsJ26glULY",
        "outputId": "6a98fd52-d3dd-480d-a0e5-b2e0016c3469"
      },
      "outputs": [
        {
          "name": "stdout",
          "output_type": "stream",
          "text": [
            "Sum: 4\n",
            "Multiplication: 15\n",
            "x + y = 30\n",
            "Item: 1\n",
            "Item: 2\n",
            "Item: 3\n",
            "Item: 4\n",
            "Item: 5\n",
            "x is less than y\n",
            "Hello, Alice!\n",
            "0\n",
            "1\n",
            "2\n",
            "3\n",
            "4\n",
            "[0, 1, 4, 9, 16, 25, 36, 49, 64, 81]\n",
            "[2, 4, 6, 8, 10]\n",
            "Hello, Alice!\n",
            "Hello, Bob!\n",
            "Hello, Charlie!\n"
          ]
        }
      ],
      "source": [
        "# Basic Python Refresher\n",
        "# Cell 1: Python Basics\n",
        "\n",
        "# Basic arithmetic\n",
        "print(\"Sum:\", 2 + 2)\n",
        "print(\"Multiplication:\", 3 * 5)\n",
        "\n",
        "# Variables\n",
        "x = 10\n",
        "y = 20\n",
        "print(\"x + y =\", x + y)\n",
        "\n",
        "# Lists and loops\n",
        "my_list = [1, 2, 3, 4, 5]\n",
        "for item in my_list:\n",
        "    print(\"Item:\", item)\n",
        "\n",
        "# Conditionals\n",
        "if x < y:\n",
        "    print(\"x is less than y\")\n",
        "else:\n",
        "    print(\"x is greater or equal to y\")\n",
        "\n",
        "\n",
        "\n",
        "# Functions\n",
        "def greet(name):\n",
        "    return f\"Hello, {name}!\"\n",
        "\n",
        "print(greet(\"Alice\"))\n",
        "\n",
        "# Loops\n",
        "for i in range(5):\n",
        "    print(i)\n",
        "\n",
        "# List comprehensions\n",
        "squares = [x**2 for x in range(10)]\n",
        "print(squares)\n",
        "\n",
        "#Filtering\n",
        "numbers = [1, 2, 3, 4, 5, 6, 7, 8, 9, 10]\n",
        "even_numbers = [x for x in numbers if x % 2 == 0]\n",
        "print(even_numbers)\n",
        "\n",
        "\n",
        "names = [\"Alice\", \"Bob\", \"Charlie\"]\n",
        "for name in names:\n",
        "    print(f\"Hello, {name}!\")\n",
        "\n",
        "# Cell 2: Data Structures\n",
        "\n"
      ]
    },
    {
      "cell_type": "code",
      "execution_count": null,
      "metadata": {
        "colab": {
          "base_uri": "https://localhost:8080/"
        },
        "id": "CvURH8MDlULb",
        "outputId": "7b8c928d-f6ff-4ff2-ec7d-94357f355dcd"
      },
      "outputs": [
        {
          "name": "stdout",
          "output_type": "stream",
          "text": [
            "[0, 1, 2, 3, 4, 5, 6, 7, 8, 9, 10, 11, 12, 13, 14, 15, 16, 17, 18, 19, 20, 21, 22, 23, 24, 25, 26, 27, 28, 29, 30, 31, 32, 33, 34, 35, 36, 37, 38, 39, 40, 41, 42, 43, 44, 45, 46, 47, 48, 49, 50, 51, 52, 53, 54, 55, 56, 57, 58, 59, 60, 61, 62, 63, 64, 65, 66, 67, 68, 69, 70, 71, 72, 73, 74, 75, 76, 77, 78, 79, 80, 81, 82, 83, 84, 85, 86, 87, 88, 89, 90, 91, 92, 93, 94, 95, 96, 97, 98, 99, 100]\n"
          ]
        }
      ],
      "source": [
        "# Excercise 1\n",
        "# print the first 100 numbers\n",
        "\n",
        "lista= [x for x in range(101)]\n",
        "print(lista)\n",
        "\n",
        "\n"
      ]
    },
    {
      "cell_type": "code",
      "execution_count": null,
      "metadata": {
        "colab": {
          "base_uri": "https://localhost:8080/"
        },
        "id": "U221GCLtlULb",
        "outputId": "810e7554-672c-4b93-bf2d-bca504f8bff9"
      },
      "outputs": [
        {
          "name": "stdout",
          "output_type": "stream",
          "text": [
            "List: [1, 2, 3, 4, 5]\n",
            "Person: {'name': 'John', 'age': 30, 'city': 'New York'}\n",
            "John\n",
            "Set: {1, 2, 3, 4, 5}\n",
            "Tuple: (1, 2, 3, 4, 5)\n",
            "String: Hello, World!\n",
            "Hello, Kacper!\n",
            "last letter of the name is r\n"
          ]
        }
      ],
      "source": [
        "# Data structures\n",
        "\n",
        "# Lists\n",
        "my_list = [1, 2, 3, 4, 5]\n",
        "print(\"List:\", my_list)\n",
        "\n",
        "\n",
        "# Dictionaries\n",
        "person = {\n",
        "    \"name\": \"John\",\n",
        "    \"age\": 30,\n",
        "    \"city\": \"New York\"\n",
        "}\n",
        "print(\"Person:\", person)\n",
        "print(person[\"name\"])\n",
        "# Sets\n",
        "my_set = {1, 2, 3, 4, 5}\n",
        "print(\"Set:\", my_set)\n",
        "\n",
        "# Tuples\n",
        "my_tuple = (1, 2, 3, 4, 5)\n",
        "print(\"Tuple:\", my_tuple)\n",
        "\n",
        "# Strings\n",
        "my_string = \"Hello, World!\"\n",
        "print(\"String:\", my_string)\n",
        "\n",
        "print(f\"Hello, {name}!\") # why?\n",
        "\n",
        "print(f\"last letter of the name is {name[-1]}\")\n",
        "\n"
      ]
    },
    {
      "cell_type": "code",
      "execution_count": null,
      "metadata": {
        "colab": {
          "base_uri": "https://localhost:8080/"
        },
        "id": "Tnh9jUZjlULc",
        "outputId": "0c061ef5-55db-401d-c37e-5ec915040d1f"
      },
      "outputs": [
        {
          "name": "stdout",
          "output_type": "stream",
          "text": [
            "The person's name is Kacper and the name has 6 letters\n"
          ]
        }
      ],
      "source": [
        "#Excercise 2\n",
        "#make a function that takes persons name and returns the string containing the the formula \"The person's name is {name}\n",
        "#  and the name has x letters, then print the result\"\n",
        "my_string = \"The person's name is\"\n",
        "name = \"Kacper\"\n",
        "print(f\"{my_string} {name} and the name has {len(name)} letters\")"
      ]
    },
    {
      "cell_type": "markdown",
      "metadata": {
        "id": "BiSpbFAvtok1"
      },
      "source": [
        "EXPLANATION\n",
        "\n",
        "* my_string is a string variable that holds the beginning of the sentence: \"The person's name is\".\n",
        "* name is another string variable that stores the person’s name, in this case: \"Kacper\".\n",
        "* The print() function uses an f-string (formatted string literal), which allows you to embed variables and expressions directly inside a string using curly braces {}.\n",
        "* {my_string} inserts the text \"The person's name is\".\n",
        "* {name} inserts the value of the name variable, which is \"Kacper\".\n",
        "* {len(name)} calculates the length of the name using the len() function, which returns the number of characters in the string \"Kacper\" — in this case, 6."
      ]
    },
    {
      "cell_type": "code",
      "execution_count": null,
      "metadata": {
        "colab": {
          "base_uri": "https://localhost:8080/"
        },
        "id": "5h6OLtiIlULd",
        "outputId": "01e49800-debf-42ea-9726-e56c40805161"
      },
      "outputs": [
        {
          "name": "stdout",
          "output_type": "stream",
          "text": [
            "Hello, my name is John and I am 30 years old.\n",
            "Hello, my name is John and I am 31 years old.\n"
          ]
        }
      ],
      "source": [
        "# Classes\n",
        "\n",
        "class Person:\n",
        "    def __init__(self, name, age):\n",
        "        self.name = name\n",
        "        self.age = age\n",
        "\n",
        "    def greet(self):\n",
        "        return f\"Hello, my name is {self.name} and I am {self.age} years old.\"\n",
        "\n",
        "\n",
        "new_person = Person(\"John\", 30)\n",
        "print(new_person.greet())\n",
        "\n",
        "new_person.age = 31\n",
        "print(new_person.greet())\n",
        "\n",
        "# Cell 3: File Operations\n",
        "\n"
      ]
    },
    {
      "cell_type": "code",
      "execution_count": null,
      "metadata": {
        "colab": {
          "base_uri": "https://localhost:8080/"
        },
        "id": "vW03Gn7WlULe",
        "outputId": "4ae2c887-13fc-4a0c-948f-adf015e57dff"
      },
      "outputs": [
        {
          "name": "stdout",
          "output_type": "stream",
          "text": [
            "Download complete!\n"
          ]
        }
      ],
      "source": [
        "#loading from internet:\n",
        "import os\n",
        "\n",
        "# Create 'data' folder\n",
        "os.makedirs(\"data\", exist_ok=True)\n",
        "\n",
        "# Define the raw file URLs from GitHub\n",
        "file_urls = {\n",
        "    \"email.csv\": \"https://raw.githubusercontent.com/AdoHaha/automation_robotics_lab/master/data/email.csv\",\n",
        "    \"example.txt\": \"https://raw.githubusercontent.com/AdoHaha/automation_robotics_lab/master/data/example.txt\"\n",
        "}\n",
        "\n",
        "# Download the files\n",
        "for file_name, url in file_urls.items():\n",
        "    os.system(f\"wget -O data/{file_name} {url}\")\n",
        "\n",
        "print(\"Download complete!\")\n"
      ]
    },
    {
      "cell_type": "code",
      "execution_count": null,
      "metadata": {
        "colab": {
          "background_save": true,
          "base_uri": "https://localhost:8080/"
        },
        "id": "0-ESUBZClULf",
        "outputId": "93fd2fec-3e79-4476-c0d7-df2a9138301c"
      },
      "outputs": [
        {
          "name": "stdout",
          "output_type": "stream",
          "text": [
            "         Login email  Identifier First name Last name  Mark\n",
            "0  laura@example.com        2070      Laura      Grey     3\n",
            "1  craig@example.com        4081      Craig   Johnson     4\n",
            "2   mary@example.com        9346       Mary   Jenkins     2\n",
            "3  jamie@example.com        5079      Jamie     Smith     2\n",
            "\n",
            "Options:\n",
            "1 - Add a new entry\n",
            "2 - Find a number\n",
            "3 - Exit\n",
            "Added Mary to the telephone book.\n",
            "\n",
            "Options:\n",
            "1 - Add a new entry\n",
            "2 - Find a number\n",
            "3 - Exit\n",
            "Mary has a number 12\n",
            "\n",
            "Options:\n",
            "1 - Add a new entry\n",
            "2 - Find a number\n",
            "3 - Exit\n"
          ]
        }
      ],
      "source": [
        "# Using various packages\n",
        "\n",
        "import pandas as pd\n",
        "import os\n",
        "\n",
        "# Reading a CSV file\n",
        "file_path = \"data/email.csv\"\n",
        "if os.path.exists(file_path):\n",
        "    df = pd.read_csv(file_path , sep=\";\")\n",
        "    print(df.head())\n",
        "\n",
        "    df.describe()\n",
        "\n",
        "    class TelephoneBook:\n",
        "        def __init__(self):\n",
        "            self.entries = {}\n",
        "\n",
        "        def add_entry(self, name, number):\n",
        "            self.entries[name] = number\n",
        "\n",
        "        def what_is_your_number(self, name):\n",
        "            if name in self.entries:\n",
        "                print(f\"{name} has a number {self.entries[name]}\")\n",
        "            else:\n",
        "                print(f\"{name} not found in the telephone book.\")\n",
        "\n",
        "\n",
        "    # Create a telephone book instance\n",
        "    book = TelephoneBook()\n",
        "\n",
        "    # Interactive loop\n",
        "    while True:\n",
        "        print(\"\\nOptions:\")\n",
        "        print(\"1 - Add a new entry\")\n",
        "        print(\"2 - Find a number\")\n",
        "        print(\"3 - Exit\")\n",
        "        choice = input(\"Choose an option (1/2/3): \")\n",
        "\n",
        "        if choice == \"1\":\n",
        "            name = input(\"Enter the person's name: \")\n",
        "            number = input(\"Enter the phone number: \")\n",
        "            book.add_entry(name, number)\n",
        "            print(f\"Added {name} to the telephone book.\")\n",
        "        elif choice == \"2\":\n",
        "            name = input(\"Enter the name to search: \")\n",
        "            book.what_is_your_number(name)\n",
        "        elif choice == \"3\":\n",
        "            print(\"Exiting the telephone book. Goodbye!\")\n",
        "            break\n",
        "        else:\n",
        "            print(\"Invalid option. Please try again.\")\n",
        "else:\n",
        "    print(f\"Error: The file '{file_path}' was not found. Please ensure the download cell has been run successfully.\")"
      ]
    },
    {
      "cell_type": "markdown",
      "metadata": {
        "id": "UkwKX1Ujvw_q"
      },
      "source": [
        "### EXPLANATION\n",
        "\n",
        "- `class TelephoneBook:` defines a custom class to represent the telephone book.\n",
        "- The `__init__()` method initializes the class with an empty dictionary called `entries`, which will store names as keys and phone numbers as values.\n",
        "- The `add_entry(self, name, number)` method allows you to add a new contact by assigning the `number` to the `name` key in the `entries` dictionary.\n",
        "- The `what_is_your_number(self, name)` method checks whether the provided `name` exists in the dictionary:\n",
        "  - If it exists, it prints a message with the contact's name and number.\n",
        "  - If it doesn’t exist, it prints a message saying the name was not found in the telephone book.\n",
        "- A loop is used to interact with the user:\n",
        "  - Option `1` prompts the user to add a new name and number to the book.\n",
        "  - Option `2` prompts the user to enter a name and returns the associated number (if available).\n",
        "  - Option `3` exits the program.\n",
        "- `input()` is used to capture user input for names, numbers, and menu choices.\n",
        "- The program runs continuously using `while True:` until the user chooses to exit with option 3.\n",
        "\n"
      ]
    },
    {
      "cell_type": "code",
      "execution_count": null,
      "metadata": {
        "id": "CaL7tb5blULf"
      },
      "outputs": [],
      "source": [
        "\n",
        "import numpy as np\n",
        "\n",
        "# Creating a numpy array\n",
        "arr = np.array([1, 2, 3, 4, 5])\n",
        "print(arr)\n",
        "arr2 = arr * 2\n",
        "print(arr2)\n",
        "\n",
        "import matplotlib.pyplot as plt\n",
        "\n",
        "# Plotting a simple graph\n",
        "plt.plot([1, 2, 3, 4, 5], [1, 4, 9, 16, 25])\n",
        "plt.xlabel(\"X-axis\")\n",
        "plt.ylabel(\"Y-axis\")\n",
        "plt.title(\"Simple Graph\")\n",
        "plt.show()\n"
      ]
    },
    {
      "cell_type": "code",
      "execution_count": null,
      "metadata": {
        "id": "mwpksTB5lULg"
      },
      "outputs": [],
      "source": [
        "# File operations\n",
        "\n",
        "import random\n",
        "# Reading a file\n",
        "with open(\"data/example.txt\", \"r\") as file:\n",
        "    content = file.read()\n",
        "    print(\"File content:\", content)\n",
        "\n",
        "random_number = random.randint(1, 100)\n",
        "print(random_number)\n",
        "\n",
        "with open(\"data/example_saved.txt\", \"w\") as file:\n",
        "    file.write(str(random_number))\n",
        "\n",
        "# Excercise 4:\n",
        "# make a list of names, attach random number to each name and save it to a file\n",
        "\n",
        "def generate_random_number():\n",
        "    return random.randint(1, 100)\n",
        "\n",
        "# Function to save data to a file\n",
        "def save_to_file(filename, data):\n",
        "    with open(filename, \"w\") as file:\n",
        "        for item in data:\n",
        "            file.write(str(item) + \"\\n\")\n",
        "\n",
        "names = [\"lukasz\", \"kacper\", \"robert\", \"wojtek\", \"maciek\"]\n",
        "name_number_pairs = [(name, generate_random_number()) for name in names]\n",
        "\n",
        "save_to_file(\"data/names_numbers.txt\", name_number_pairs)\n"
      ]
    },
    {
      "cell_type": "markdown",
      "metadata": {
        "id": "c1imeirgwS5L"
      },
      "source": [
        "### EXPLANATION\n",
        "\n",
        "- `import random` imports Python’s built-in random module to generate random numbers.\n",
        "- `generate_random_number()` is a function that returns a random integer between 1 and 100 using `random.randint(1, 100)`.\n",
        "- `save_to_file(filename, data)` is a function that writes a list of items to a file:\n",
        "  - It opens the file in write mode (`\"w\"`), then loops through the list.\n",
        "  - Each item is converted to a string and written to a new line in the file using `file.write()`.\n",
        "- `names` is a list containing several example names.\n",
        "- `name_number_pairs` uses a **list comprehension** to generate a list of tuples. Each tuple contains:\n",
        "  - A name from the `names` list.\n",
        "  - A random number generated by `generate_random_number()`.\n",
        "- Finally, the `save_to_file()` function writes the list of name-number pairs to a text file named `\"names_numbers.txt\"`.\n",
        "\n",
        "> The result is a text file where each line contains a name and a random number in tuple format, e.g. `('kacper', 42)`.\n"
      ]
    },
    {
      "cell_type": "markdown",
      "metadata": {
        "id": "BODua3GAlULh"
      },
      "source": [
        "### More exercises:\n",
        "- https://coin-or.github.io/pulp/main/basic_python_coding.html\n",
        "- https://www.practicepython.org/\n",
        "- https://exercism.org/tracks/python/exercises\n",
        "- https://www.hackinscience.org/exercises/"
      ]
    },
    {
      "cell_type": "code",
      "execution_count": null,
      "metadata": {
        "id": "W0aWcL0LlULh"
      },
      "outputs": [],
      "source": [
        "!pip install pulp"
      ]
    },
    {
      "cell_type": "code",
      "execution_count": null,
      "metadata": {
        "colab": {
          "base_uri": "https://localhost:8080/"
        },
        "id": "aTVmIV3_lULi",
        "outputId": "5fa1ccfc-8d51-4bc3-c6c0-e42571ddb912"
      },
      "outputs": [
        {
          "name": "stdout",
          "output_type": "stream",
          "text": [
            "Simple_Problem:\n",
            "MAXIMIZE\n",
            "1*x + 1*y + 0\n",
            "SUBJECT TO\n",
            "_C1: x - y = 0\n",
            "\n",
            "VARIABLES\n",
            "x <= 4 Continuous\n",
            "y <= 3 Continuous\n",
            "\n"
          ]
        }
      ],
      "source": [
        "# Basics of Pulp\n",
        "\n",
        "import pulp\n",
        "\n",
        "# Creating a problem\n",
        "prob = pulp.LpProblem(\"Simple_Problem\", pulp.LpMaximize) # we want to maximize the objective function\n",
        "\n",
        "# Variables\n",
        "x = pulp.LpVariable('x', lowBound=0, upBound=4) # x must be between 0 and 4\n",
        "y = pulp.LpVariable('y', lowBound=0, upBound=3) # y must be between 0 and 3\n",
        "\n",
        "# Objective function\n",
        "prob += x + y, \"Z\" # we want to maximize the sum of x and y\n",
        "\n",
        "# Constraints\n",
        "prob += x - y == 0 # they must be same\n",
        "print(prob)\n"
      ]
    },
    {
      "cell_type": "code",
      "execution_count": null,
      "metadata": {
        "colab": {
          "base_uri": "https://localhost:8080/"
        },
        "id": "Edr3ElNSlULi",
        "outputId": "b430d824-e18d-4293-f04f-aeafdf7ca59e"
      },
      "outputs": [
        {
          "name": "stdout",
          "output_type": "stream",
          "text": [
            "x = 3.0\n",
            "y = 3.0\n"
          ]
        }
      ],
      "source": [
        "# Solving the problem\n",
        "prob.solve()\n",
        "\n",
        "# Printing the results\n",
        "print(\"x =\", x.value())\n",
        "print(\"y =\", y.value())\n"
      ]
    },
    {
      "cell_type": "markdown",
      "metadata": {
        "id": "8K4bPQDRv_Cl"
      },
      "source": []
    },
    {
      "cell_type": "code",
      "execution_count": null,
      "metadata": {
        "colab": {
          "base_uri": "https://localhost:8080/"
        },
        "id": "-MmCNyp8tphV",
        "outputId": "a3bbad26-f8f9-4bd5-d5fa-10b3dcdcbf74"
      },
      "outputs": [
        {
          "name": "stdout",
          "output_type": "stream",
          "text": [
            "Requirement already satisfied: pulp in /usr/local/lib/python3.11/dist-packages (3.1.1)\n",
            "Status: Optimal\n",
            "BeefPercent = 57.555556\n",
            "ChickenPercent = 0.0\n",
            "GelPercent = 40.222222\n",
            "MuttonPercent = 0.0\n",
            "RicePercent = 0.0\n",
            "SardinesPercent = 2.2222222\n",
            "WheatbranPercent = 0.0\n",
            "Total Cost of Ingredients per can =  0.5073333366\n"
          ]
        }
      ],
      "source": [
        "!pip install pulp\n",
        "from pulp import *\n",
        "prob = LpProblem(\"The Whiskas Problem\",LpMinimize)\n",
        "LpVariable(\"example\", upBound = 100)\n",
        "x1=LpVariable(\"ChickenPercent\",0,None,LpInteger)\n",
        "x2=LpVariable(\"BeefPercent\",0)\n",
        "x3=LpVariable(\"MuttonPercent\",0)\n",
        "x4=LpVariable(\"RicePercent\",0)\n",
        "x5=LpVariable(\"WheatbranPercent\",0)\n",
        "x6=LpVariable(\"GelPercent\",0)\n",
        "x7=LpVariable(\"SardinesPercent\",0)\n",
        "prob += 0.013*x1 + 0.008*x2 + 0.01*x3 + 0.002*x4 + 0.005*x5 + 0.001*x6 + 0.003*x7, \"Total Cost of Ingredients per can\"\n",
        "prob += x1 + x2 + x3 + x4 + x5 + x6 + x7 == 100, \"PercentagesSum\"\n",
        "prob += 0.100*x1 + 0.200*x2+ 0.150*x3 + 0.000*x4 + 0.040*x5 + 0.000*x6 + 0.25*x7 >= 8.0, \"Protein Requirement\"\n",
        "prob += 0.080*x1 + 0.100*x2 + 0.110*x3 + 0.010*x4 + 0.010*x5 + 0.000*x6 + 0.11*x7 >= 6.0, \"Fat Requirement\"\n",
        "prob += 0.001*x1 + 0.005*x2 + 0.003*x3 + 0.100*x4 + 0.150*x5 + 0.000*x6 + 0.000*x7 <= 2.0, \"Fibre Requirement\"\n",
        "prob += 0.002*x1 + 0.005*x2 + 0.007*x3 + 0.002*x4 + 0.008*x5 + 0.000*x6 + 0.0505*x7 <= 0.4, \"Salt Requirement\"\n",
        "prob += 0.300*x1 + 2.6*x2 + 2.6*x3 + 8.9*x7 >= 0.8, \"Vitamin B requirement\" #added a comma here\n",
        "prob.writeLP(\"WhiskasModel.lp\")\n",
        "prob.solve()\n",
        "print(\"Status:\", LpStatus[prob.status])\n",
        "for v in prob.variables():\n",
        "    print(v.name, \"=\", v.varValue)\n",
        "print(\"Total Cost of Ingredients per can = \", value(prob.objective))\n",
        "\n"
      ]
    },
    {
      "cell_type": "markdown",
      "metadata": {
        "id": "C_rds2dFlULj"
      },
      "source": [
        "# Exercise:\n",
        "\n",
        "1. Read the materials about pulp from the website https://coin-or.github.io/pulp/main/index.html and go through the blending problem: https://www.coin-or.org/PuLP/CaseStudies/a_blending_problem.html (rewrite it to your notebook).\n",
        "\n",
        "There are two versions of the solution. I suggest you start with the first one which provides step by step solution with comments. Put each part of the code in a separate cell.\n",
        "Only when you understand the first version, move to the second one which provides a more compact code beneficial for larger problems.\n",
        "\n",
        "2. In the blending problem, add a decision variable. Create a variable that will appear in the final product composition (i.e., the value of the variable will have a non-zero form)\n",
        "\n",
        "3. Add a constraint regarding vitamin B content\n",
        "\n",
        "Content:\n",
        "\n",
        "| Name       | content μg/100g   |\n",
        "|------------|-------------------|\n",
        "| chicken    | 0.3               |\n",
        "| beef       | 2.6               |\n",
        "| mutton     | 2.6               |\n",
        "| rice       | 0                 |\n",
        "| wheat bran | 0                 |\n",
        "| gel        | 0                 |\n",
        "| sardines   | 8.9               |\n",
        "\n",
        "A cat needs to eat a minimum of 0.24 μg per kilogram of body weight of vitamin B, so approximately\n",
        "0.8 μg daily.\n",
        "\n",
        "Try tu use the form presented at the end of the tutorial as this will be used in the next lab. Retun variables using the"
      ]
    },
    {
      "cell_type": "markdown",
      "metadata": {
        "id": "Bi9T-ppwlULj"
      },
      "source": [
        "\n",
        "\n"
      ]
    },
    {
      "cell_type": "markdown",
      "metadata": {
        "id": "hZp-GspxxAMl"
      },
      "source": [
        "### EXPLANATION\n",
        "\n",
        "- `!pip install pulp` installs the PuLP library, which is used for linear programming in Python.\n",
        "- `LpProblem(\"The Whiskas Problem\", LpMinimize)` defines a linear optimization problem named “The Whiskas Problem” with the goal of minimizing cost.\n",
        "- Seven `LpVariable()` instances represent the percentage of each ingredient in the final product. For example, `x1` is the percentage of chicken.\n",
        "- The **objective function** is the total cost: `0.013*x1 + 0.008*x2 + ...`. The model aims to minimize this.\n",
        "- The first constraint ensures that the total percentage of all ingredients equals 100%.\n",
        "- The following constraints represent **nutritional requirements**:\n",
        "  - **Protein** must be at least 8%.\n",
        "  - **Fat** must be at least 6%.\n",
        "  - **Fibre** must be no more than 2%.\n",
        "  - **Salt** must be no more than 0.4%.\n",
        "  - **Vitamin B** must be at least 0.8%.\n",
        "- `prob.writeLP()` saves the model to a `.lp` file (optional for review or export).\n",
        "- `prob.solve()` runs the optimization solver.\n",
        "- The solution is printed:\n",
        "  - The **status** (e.g., Optimal).\n",
        "  - The **percentage of each ingredient**.\n",
        "  - The **total cost per can** of the blend that meets all constraints.\n",
        "\n",
        "> This problem is a classic **blending optimization** scenario: choosing the best mix of ingredients at the lowest cost while meeting nutritional guidelines.\n"
      ]
    }
  ],
  "metadata": {
    "colab": {
      "provenance": [],
      "include_colab_link": true
    },
    "kernelspec": {
      "display_name": "base",
      "language": "python",
      "name": "python3"
    },
    "language_info": {
      "codemirror_mode": {
        "name": "ipython",
        "version": 3
      },
      "file_extension": ".py",
      "mimetype": "text/x-python",
      "name": "python",
      "nbconvert_exporter": "python",
      "pygments_lexer": "ipython3",
      "version": "3.7.3"
    }
  },
  "nbformat": 4,
  "nbformat_minor": 0
}