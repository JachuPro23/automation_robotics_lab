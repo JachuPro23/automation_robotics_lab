{
  "cells": [
    {
      "cell_type": "markdown",
      "metadata": {
        "id": "view-in-github",
        "colab_type": "text"
      },
      "source": [
        "<a href=\"https://colab.research.google.com/github/JachuPro23/automation_robotics_lab/blob/master/Lab_auto_2_Ko%C5%82odziejczyk_Szl%C4%99k_Rumas.ipynb\" target=\"_parent\"><img src=\"https://colab.research.google.com/assets/colab-badge.svg\" alt=\"Open In Colab\"/></a>"
      ]
    },
    {
      "cell_type": "markdown",
      "source": [
        "### REPORT LAB 2\n",
        "### Kacper Kołodziejczyk 250185\n",
        "### Jan Szlęk 250195\n",
        "### Sewer Rumas 250191"
      ],
      "metadata": {
        "id": "c6dt4FHzAUEt"
      }
    },
    {
      "cell_type": "markdown",
      "metadata": {
        "id": "KzvZ9hbHxFlm"
      },
      "source": [
        "**Lab 2: Advanced Linear Programming and Sensitivity Analysis**\n",
        "- Defining more complex linear programming tasks\n",
        "- Learning different constraint types\n",
        "- Sensitivity analysis"
      ]
    },
    {
      "cell_type": "markdown",
      "metadata": {
        "id": "AV28-kChxFlr"
      },
      "source": [
        "**Production Optimization Problem**\n",
        "\n",
        "This program solves a linear programming problem for optimizing production of three products (A, B, and C).\n",
        "\n",
        "The A can be for example a number of beds, B can be meters of plywood and C can be meters of low quality plywood.\n",
        "Notice that it does not make sense to produce a half of a bed, so we need to use integer variables for this decision variable.\n",
        "\n",
        "**Decision Variables:**\n",
        "- unitsA: Number of units of product A to produce (integer):\n",
        "- unitsB: Number of units of product B to produce\n",
        "- unitsC: Number of units of product C to produce\n",
        "\n",
        "**Objective Function:**\n",
        "- Maximize profit: 400 PLN per unit A + 300 PLN per unit B + 200 PLN per unit C\n",
        "\n",
        "**Constraints:**\n",
        "- Assembly time: 0.3h per A + 0.1h per B + 0.1h per C ≤ 1800 hours\n",
        "- Quality control: 0.1h per A + 0.08h per B + 0.04h per C ≤ 800 hours\n",
        "- Packaging: 0.06h per A + 0.04h per B + 0.05h per C ≤ 700 hours\n"
      ]
    },
    {
      "cell_type": "code",
      "execution_count": 6,
      "metadata": {
        "id": "HFp2g6QpxFls",
        "outputId": "50ec3832-fcc9-410c-8d6a-51ee2644e335",
        "colab": {
          "base_uri": "https://localhost:8080/",
          "height": 228
        }
      },
      "outputs": [
        {
          "output_type": "stream",
          "name": "stdout",
          "text": [
            "Requirement already satisfied: pulp in /usr/local/lib/python3.11/dist-packages (3.2.1)\n"
          ]
        },
        {
          "output_type": "error",
          "ename": "FileNotFoundError",
          "evalue": "[Errno 2] No such file or directory: 'your_notebook.ipynb'",
          "traceback": [
            "\u001b[0;31m---------------------------------------------------------------------------\u001b[0m",
            "\u001b[0;31mFileNotFoundError\u001b[0m                         Traceback (most recent call last)",
            "\u001b[0;32m<ipython-input-6-4197816149>\u001b[0m in \u001b[0;36m<cell line: 0>\u001b[0;34m()\u001b[0m\n\u001b[1;32m     15\u001b[0m \u001b[0mnotebook_path\u001b[0m \u001b[0;34m=\u001b[0m \u001b[0;34m\"your_notebook.ipynb\"\u001b[0m\u001b[0;34m\u001b[0m\u001b[0;34m\u001b[0m\u001b[0m\n\u001b[1;32m     16\u001b[0m \u001b[0;34m\u001b[0m\u001b[0m\n\u001b[0;32m---> 17\u001b[0;31m \u001b[0;32mwith\u001b[0m \u001b[0mopen\u001b[0m\u001b[0;34m(\u001b[0m\u001b[0mnotebook_path\u001b[0m\u001b[0;34m,\u001b[0m \u001b[0;34m\"r\"\u001b[0m\u001b[0;34m,\u001b[0m \u001b[0mencoding\u001b[0m\u001b[0;34m=\u001b[0m\u001b[0;34m\"utf-8\"\u001b[0m\u001b[0;34m)\u001b[0m \u001b[0;32mas\u001b[0m \u001b[0mf\u001b[0m\u001b[0;34m:\u001b[0m\u001b[0;34m\u001b[0m\u001b[0;34m\u001b[0m\u001b[0m\n\u001b[0m\u001b[1;32m     18\u001b[0m     \u001b[0mnb\u001b[0m \u001b[0;34m=\u001b[0m \u001b[0mjson\u001b[0m\u001b[0;34m.\u001b[0m\u001b[0mload\u001b[0m\u001b[0;34m(\u001b[0m\u001b[0mf\u001b[0m\u001b[0;34m)\u001b[0m\u001b[0;34m\u001b[0m\u001b[0;34m\u001b[0m\u001b[0m\n\u001b[1;32m     19\u001b[0m \u001b[0;34m\u001b[0m\u001b[0m\n",
            "\u001b[0;31mFileNotFoundError\u001b[0m: [Errno 2] No such file or directory: 'your_notebook.ipynb'"
          ]
        }
      ],
      "source": [
        "# In Google Colab, ensure PuLP is installed:\n",
        "!pip install pulp\n",
        "from pulp import (\n",
        "    LpProblem,\n",
        "    LpVariable,\n",
        "    LpMaximize,\n",
        "    LpInteger,\n",
        "    LpContinuous,\n",
        "    LpBinary,\n",
        "    value,\n",
        "    PULP_CBC_CMD\n",
        ")\n",
        "\n",
        "\n",
        "# 1) Create the optimization problem (maximize profit).\n",
        "prob = LpProblem(\"Advanced_Production_Problem\", LpMaximize)\n",
        "\n",
        "# 2) Define Decision Variables\n",
        "# Let's say:\n",
        "#   - A (number of units of product A) is integer (like beds).\n",
        "#   - B (number of units of product B) is continuous or integer, depending on your scenario.\n",
        "#   - C (number of units of product C) is continuous or integer, too.\n",
        "\n",
        "A = LpVariable(\"A\", lowBound=0, cat=LpInteger)  # must be integer\n",
        "B = LpVariable(\"B\", lowBound=0)  # continous meters of plywood\n",
        "C = LpVariable(\"C\", lowBound=0)  # continous meters of low quality plywood\n",
        "\n",
        "# 3) Define Objective Function\n",
        "# Profit values (you can tweak these):\n",
        "profit_A = 400\n",
        "profit_B = 300\n",
        "profit_C = 200\n",
        "\n",
        "prob += profit_A*A + profit_B*B + profit_C*C, \"Profit_Objective\"\n",
        "\n",
        "# 4) Define Constraints\n",
        "\n",
        "# --- Resource / Time Constraints (same as the previous example, extended if desired) ---\n",
        "# Example: max available hours in Assembly, Quality Control, and Packaging\n",
        "prob += 0.3*A + 0.1*B + 0.1*C <= 1800, \"Assembly_Hours\"\n",
        "prob += 0.1*A + 0.08*B + 0.04*C <= 800, \"Quality_Control_Hours\"\n",
        "prob += 0.06*A + 0.04*B + 0.05*C <= 700, \"Packaging_Hours\"\n",
        "\n",
        "# --- Minimum Demand Constraints ---\n",
        "# Suppose the company must produce at least 100 units of A, 50 of B, and 80 of C to satisfy orders.\n",
        "prob += A >= 100, \"Min_Demand_A\"\n",
        "prob += B >= 50,  \"Min_Demand_B\"\n",
        "prob += C >= 80,  \"Min_Demand_C\"\n",
        "\n",
        "# --- Optional Additional Constraints ---\n",
        "# For instance, if product C requires a special component that is limited:\n",
        "# Let's say we have only 500 units of that component, and each unit of C consumes 1 unit of that component\n",
        "# prob += C <= 500, \"Special_Component_Limit\"\n",
        "\n",
        "# Alternatively, we might have a ratio constraint, e.g., for product mix synergy:\n",
        "# For example, we do not want to produce more B than 2 times A\n",
        "# prob += B <= 2 * A, \"Mix_Ratio_Constraint\"\n",
        "\n",
        "# 5) Solve the problem\n",
        "prob.writeLP(\"AdvancedProduction.lp\")\n",
        "prob.solve(PULP_CBC_CMD(msg=False))  # CBC solver\n",
        "\n",
        "# 6) Print results\n",
        "print(\"Status:\", prob.status)\n",
        "for v in prob.variables():\n",
        "    print(v.name, \"=\", v.varValue)\n",
        "\n",
        "print(\"Total profit = \", value(prob.objective))"
      ]
    },
    {
      "cell_type": "markdown",
      "metadata": {
        "id": "5Zpqm2OLxFlu"
      },
      "source": [
        "## 2. Interpreting the Extended Model\n",
        "\n",
        "\n",
        "\n",
        "### Minimum Demand Constraints:\n",
        "- E.g. `A >= 100` ensures at least 100 units of A are produced.\n",
        "\n",
        "### Optional Constraints:\n",
        "- Resource constraints, ratio constraints, or any other real-world limitations.\n",
        "\n",
        "\n",
        "\n",
        "## 3. Performing Sensitivity Analysis\n",
        "\n",
        "### Approach A: Manual Parameter Variation\n",
        "- **Change the availability of resources:**\n",
        "  - For example, reduce the 1800 hours of Assembly to 1500, solve again, and observe the new optimal solution.\n",
        "- **Change the profit coefficients:**\n",
        "  - If the profit for product C increases to 250, does the solution shift toward more C?\n",
        "- **Change the minimum demand:**\n",
        "  - If the market demands 150 units of A instead of 100, how does that affect the objective?"
      ]
    },
    {
      "cell_type": "markdown",
      "metadata": {
        "id": "wJWm56lmxFlv"
      },
      "source": [
        "## Exercise 1: Minimum Demand and New Constraints\n",
        "\n",
        "- Implement the code above and check if it finds a feasible solution.\n",
        "- Alter the minimum demands:\n",
        "  - Increase or decrease them to see if the solution changes drastically.\n",
        "- Interpret which constraints become \"binding\" (fully used, the value of the constraint is equal to its limit) in the optimal solution."
      ]
    },
    {
      "cell_type": "code",
      "execution_count": 3,
      "metadata": {
        "id": "lfHhoFgFxFlv",
        "outputId": "1dc61443-5a3e-4bdd-a1ef-97f61aa31346",
        "colab": {
          "base_uri": "https://localhost:8080/"
        }
      },
      "outputs": [
        {
          "output_type": "stream",
          "name": "stdout",
          "text": [
            "Requirement already satisfied: pulp in /usr/local/lib/python3.11/dist-packages (3.2.1)\n",
            "Status: 1\n",
            "A = 150.0\n",
            "B = 4837.5\n",
            "C = 9950.0\n",
            "Total profit =  4995000.0\n",
            "Binding: Quality_Control_Hours\n",
            "Binding: Packaging_Hours\n",
            "Binding: Min_Demand_A\n"
          ]
        }
      ],
      "source": [
        "# In Google Colab, ensure PuLP is installed:\n",
        "!pip install pulp\n",
        "\n",
        "from pulp import (\n",
        "    LpProblem,\n",
        "    LpVariable,\n",
        "    LpMaximize,\n",
        "    LpInteger,\n",
        "    LpContinuous,\n",
        "    LpBinary,\n",
        "    value,\n",
        "    PULP_CBC_CMD\n",
        ")\n",
        "\n",
        "# 1) Create the optimization problem (maximize profit).\n",
        "prob = LpProblem(\"Advanced_Production_Problem\", LpMaximize)\n",
        "\n",
        "# 2) Define Decision Variables\n",
        "# Let's say:\n",
        "#   - A (number of units of product A) is integer (like beds).\n",
        "#   - B (number of units of product B) is continuous or integer, depending on your scenario.\n",
        "#   - C (number of units of product C) is continuous or integer, too.\n",
        "\n",
        "A = LpVariable(\"A\", lowBound=0, cat=LpInteger)  # must be integer\n",
        "B = LpVariable(\"B\", lowBound=0)  # continous meters of plywood\n",
        "C = LpVariable(\"C\", lowBound=0)  # continous meters of low quality plywood\n",
        "\n",
        "# 3) Define Objective Function\n",
        "# Profit values (you can tweak these):\n",
        "profit_A = 500\n",
        "profit_B = 400\n",
        "profit_C = 300\n",
        "\n",
        "prob += profit_A*A + profit_B*B + profit_C*C, \"Profit_Objective\"\n",
        "\n",
        "# 4) Define Constraints\n",
        "\n",
        "# --- Resource / Time Constraints (same as the previous example, extended if desired) ---\n",
        "# Example: max available hours in Assembly, Quality Control, and Packaging\n",
        "prob += 0.3*A + 0.1*B + 0.1*C <= 1800, \"Assembly_Hours\"\n",
        "prob += 0.1*A + 0.08*B + 0.04*C <= 800, \"Quality_Control_Hours\"\n",
        "prob += 0.06*A + 0.04*B + 0.05*C <= 700, \"Packaging_Hours\"\n",
        "\n",
        "# --- Minimum Demand Constraints ---\n",
        "# Suppose the company must produce at least 100 units of A, 50 of B, and 80 of C to satisfy orders.\n",
        "prob += A >= 150, \"Min_Demand_A\"\n",
        "prob += B >= 100, \"Min_Demand_B\"\n",
        "prob += C >= 120, \"Min_Demand_C\"\n",
        "\n",
        "# --- Optional Additional Constraints ---\n",
        "# For instance, if product C requires a special component that is limited:\n",
        "# Let's say we have only 500 units of that component, and each unit of C consumes 1 unit of that component\n",
        "# prob += C <= 500, \"Special_Component_Limit\"\n",
        "\n",
        "# Alternatively, we might have a ratio constraint, e.g., for product mix synergy:\n",
        "# For example, we do not want to produce more B than 2 times A\n",
        "# prob += B <= 2 * A, \"Mix_Ratio_Constraint\"\n",
        "\n",
        "# 5) Solve the problem\n",
        "prob.writeLP(\"AdvancedProduction.lp\")\n",
        "prob.solve(PULP_CBC_CMD(msg=False))  # CBC solver\n",
        "\n",
        "# 6) Print results\n",
        "print(\"Status:\", prob.status)\n",
        "for v in prob.variables():\n",
        "    print(v.name, \"=\", v.varValue)\n",
        "\n",
        "print(\"Total profit = \", value(prob.objective))\n",
        "\n",
        "for name, constraint in prob.constraints.items():\n",
        "    if constraint.slack is not None and abs(constraint.slack) < 1e-5:  # Check if slack is not None before using abs()\n",
        "        print(f\"Binding: {name}\")\n",
        "\n",
        "#A is binding, because by changing its demand changes the profit of other products. B,C are not, because changing their demand does not change profit of other products.\n"
      ]
    },
    {
      "cell_type": "markdown",
      "source": [
        "### EXPLANATION\n",
        "\n",
        "- `!pip install pulp` ensures the **PuLP** library is installed in your Colab environment.\n",
        "- `LpProblem(\"Advanced_Production_Problem\", LpMaximize)` creates a linear optimization problem that aims to **maximize total profit**.\n",
        "- Decision variables `A`, `B`, and `C` represent the production quantities of different products:\n",
        "  - `A` must be an integer (e.g. beds).\n",
        "  - `B` and `C` are continuous (e.g. meters of materials).\n",
        "- The **objective function** maximizes profit: `500*A + 400*B + 300*C`.\n",
        "- Three **time-based constraints** are added to reflect limited availability of:\n",
        "  - **Assembly hours**\n",
        "  - **Quality control hours**\n",
        "  - **Packaging hours**\n",
        "- **Minimum demand constraints** ensure the company produces at least:\n",
        "  - 150 units of Product A\n",
        "  - 100 units of Product B\n",
        "  - 120 units of Product C\n",
        "  - which is a change to an example, where the minimum demands were different (100, 50, 80)\n",
        "- Additional (optional) constraints are shown but commented out:\n",
        "  - Limit on special components for product C\n",
        "  - A ratio limit between production of B and A\n",
        "- `prob.solve()` uses the CBC solver to find the optimal production plan.\n",
        "- The results include:\n",
        "  - **Status** (e.g. Optimal)\n",
        "  - **Quantity of each product to produce**\n",
        "  - **Maximum profit achieved**\n",
        "- The script also checks which constraints are **binding**, meaning:\n",
        "  - They directly influence the solution.\n",
        "  - For example: if `A` is binding, increasing its minimum demand changes the optimal profit and solution.\n",
        "  - If `B` and `C` are not binding, changes in their minimum demand don’t affect the result.\n",
        "\n",
        "> This exercise demonstrates a realistic **production planning scenario** that balances limited resources, demand requirements, and profit goals.\n"
      ],
      "metadata": {
        "id": "FchxhW9w3OEr"
      }
    },
    {
      "cell_type": "markdown",
      "metadata": {
        "id": "mRQLZWgyxFlw"
      },
      "source": [
        "## Exercise 2: Sensitivity Analysis on Resource Availability\n",
        "\n",
        "- Create a loop that iterates over possible Assembly hours: 1600, 1800, 2000.\n",
        "- For each iteration, solve the problem and record:\n",
        "  - The optimal quantity of A, B, C.\n",
        "  - The total profit.\n",
        "- Plot or tabulate results to see the trend (if you like, e.g., in a DataFrame)."
      ]
    },
    {
      "cell_type": "code",
      "execution_count": null,
      "metadata": {
        "id": "Jje65WRVxFlx",
        "outputId": "0a3d2a95-1a1b-4f43-fcd4-2a4066ae2b7c",
        "colab": {
          "base_uri": "https://localhost:8080/",
          "height": 593
        }
      },
      "outputs": [
        {
          "output_type": "stream",
          "name": "stdout",
          "text": [
            "   Assembly Limit      A        B     C  Total Profit\n",
            "0            1600  100.0  15620.0  80.0     6322000.0\n",
            "1            1800  100.0  17620.0  80.0     7122000.0\n",
            "2            2000  100.0  19620.0  80.0     7922000.0\n",
            "Binding: Assembly_Hours\n",
            "Binding: Min_Demand_A\n",
            "Binding: Min_Demand_C\n"
          ]
        },
        {
          "output_type": "display_data",
          "data": {
            "text/plain": [
              "<Figure size 640x480 with 1 Axes>"
            ],
            "image/png": "[encoded data removed]"
          },
          "metadata": {}
        }
      ],
      "source": [
        "import pandas as pd\n",
        "from pulp import *\n",
        "import matplotlib.pyplot as plt\n",
        "\n",
        "# Initialize results list\n",
        "results = []\n",
        "\n",
        "# Loop through different Assembly hour limits\n",
        "for assembly_limit in [1600, 1800, 2000]:\n",
        "    # Define the problem\n",
        "    prob = LpProblem(\"Advanced_Production_Problem\", LpMaximize)\n",
        "\n",
        "    # Decision variables\n",
        "    A = LpVariable(\"A\", lowBound=0, cat=LpInteger)\n",
        "    B = LpVariable(\"B\", lowBound=0)\n",
        "    C = LpVariable(\"C\", lowBound=0)\n",
        "\n",
        "    # Objective function\n",
        "    prob += 500*A + 400*B + 300*C\n",
        "\n",
        "    # Constraints\n",
        "    prob += 0.3*A + 0.1*B + 0.1*C <= assembly_limit, \"Assembly_Hours\"\n",
        "    prob += 0.1*A + 0.08*B + 0.04*C <= 2000, \"Quality_Control_Hours\"\n",
        "    prob += 0.06*A + 0.04*B + 0.05*C <= 2000, \"Packaging_Hours\"\n",
        "    prob += A >= 100, \"Min_Demand_A\"\n",
        "    prob += B >= 50,  \"Min_Demand_B\"\n",
        "    prob += C >= 80,  \"Min_Demand_C\"\n",
        "\n",
        "    # Solve\n",
        "    prob.solve(PULP_CBC_CMD(msg=0))\n",
        "\n",
        "    # Record results\n",
        "    results.append({\n",
        "        \"Assembly Limit\": assembly_limit,\n",
        "        \"A\": A.varValue,\n",
        "        \"B\": B.varValue,\n",
        "        \"C\": C.varValue,\n",
        "        \"Total Profit\": value(prob.objective)\n",
        "    })\n",
        "\n",
        "# Convert results to DataFrame\n",
        "df = pd.DataFrame(results)\n",
        "print(df)\n",
        "\n",
        "for name, constraint in prob.constraints.items():\n",
        "    if constraint.slack is not None and abs(constraint.slack) < 1e-5:  # Check if slack is not None before using abs()\n",
        "        print(f\"Binding: {name}\")\n",
        "\n",
        "plt.plot(df[\"Assembly Limit\"], df[\"Total Profit\"], marker='o')\n",
        "plt.xlabel(\"Assembly Hours Limit\")\n",
        "plt.ylabel(\"Total Profit\")\n",
        "plt.title(\"Profit vs Assembly Hour Limit\")\n",
        "plt.grid(True)\n",
        "plt.show()"
      ]
    },
    {
      "cell_type": "markdown",
      "source": [
        "### EXPLANATION\n",
        "\n",
        "This exercise analyzes how changing the **available Assembly Hours** affects the **total profit** of a production model. This process is called **sensitivity analysis**.\n",
        "\n",
        "- We use a loop to test three different values for the \"Assembly_Hours\" constraint: 1600, 1800, and 2000 hours.\n",
        "- For each case, we:\n",
        "  - Rebuild the optimization model using **PuLP**.\n",
        "  - Define production variables `A`, `B`, `C` and maximize profit using a linear objective function.\n",
        "  - Add constraints for:\n",
        "    - Assembly, Quality Control, and Packaging hours.\n",
        "    - Minimum production levels for each product.\n",
        "- The model is solved with the `PULP_CBC_CMD` solver.\n",
        "- After solving, results for each assembly limit (including values for A, B, C, and profit) are saved into a table using **pandas**.\n",
        "\n",
        "#### Final Output:\n",
        "- The table `df` displays how production decisions and profits change depending on assembly capacity.\n",
        "- The **plot** visualizes the relationship between **Assembly Limit** and **Total Profit**, helping us understand:\n",
        "  - How much profit increases when more assembly time is available.\n",
        "  - Whether there are **diminishing returns** after a certain point.\n",
        "\n",
        "#### Additional Insight:\n",
        "- Binding constraints are printed at the end for the last model solved. If `Assembly_Hours` is binding, it means it's a **limiting factor** on profit.\n",
        "- This is helpful for managers to **prioritize expanding capacity** in the most restrictive areas.\n",
        "\n",
        "> Sensitivity analysis like this is essential for **strategic planning** and **resource allocation** in operations management.\n"
      ],
      "metadata": {
        "id": "QLQyRsNd4Gcb"
      }
    },
    {
      "cell_type": "markdown",
      "metadata": {
        "id": "dnwF7M9ZxFlx"
      },
      "source": [
        "## Exercise 3 (Optional): Binary Decision Constraints\n",
        "\n",
        "- Add a binary variable that indicates whether you open a specific production line (1) or not (0).\n",
        "- If that line is closed, the hours available might be reduced or zero.\n",
        "- Solve and see how the solver decides the best strategy (to open or not to open)."
      ]
    },
    {
      "cell_type": "markdown",
      "metadata": {
        "id": "y0nNNmw8xFly"
      },
      "source": []
    },
    {
      "cell_type": "markdown",
      "metadata": {
        "id": "vTIr4pxJxFly"
      },
      "source": [
        "# Bonus:\n",
        " - Add sliders to show the values of the variables and the constraints."
      ]
    },
    {
      "cell_type": "code",
      "execution_count": 7,
      "metadata": {
        "id": "_0nCA0rjxFly",
        "outputId": "94fe0294-9f18-48c7-9eb4-d6825bf1fc60",
        "colab": {
          "referenced_widgets": [
            "2521fadca03e49ddadd0f22e5ecbd4f2",
            "f8fb125b7b074fd3b0e50be2b1679731",
            "83630250cd6d45cebeb56b55d52603e5",
            "af9a02ccd7be40429efdb38b356e8e87",
            "6eae261af83a443f81643289088d8444",
            "3df514f3518f4b32a52d40029b855475",
            "7b3c24afdbda4cfbbe61a762c9f87e2a",
            "21ffccb362414d07a0568ac0d03ce1ef",
            "1f73c34aad0b497c854407828db11005",
            "94ca0f0de0cc444199635252f8e388b3",
            "b7443e6385c24772bd591bb1c8fc5893"
          ],
          "base_uri": "https://localhost:8080/",
          "height": 213
        }
      },
      "outputs": [
        {
          "output_type": "display_data",
          "data": {
            "text/plain": [
              "FloatSlider(value=400.0, continuous_update=False, description='Profit A', max=800.0, step=10.0)"
            ],
            "application/vnd.jupyter.widget-view+json": {
              "version_major": 2,
              "version_minor": 0,
              "model_id": "2521fadca03e49ddadd0f22e5ecbd4f2"
            }
          },
          "metadata": {}
        },
        {
          "output_type": "display_data",
          "data": {
            "text/plain": [
              "FloatSlider(value=300.0, continuous_update=False, description='Profit B', max=600.0, step=10.0)"
            ],
            "application/vnd.jupyter.widget-view+json": {
              "version_major": 2,
              "version_minor": 0,
              "model_id": "af9a02ccd7be40429efdb38b356e8e87"
            }
          },
          "metadata": {}
        },
        {
          "output_type": "display_data",
          "data": {
            "text/plain": [
              "FloatSlider(value=200.0, continuous_update=False, description='Profit C', max=400.0, step=10.0)"
            ],
            "application/vnd.jupyter.widget-view+json": {
              "version_major": 2,
              "version_minor": 0,
              "model_id": "7b3c24afdbda4cfbbe61a762c9f87e2a"
            }
          },
          "metadata": {}
        },
        {
          "output_type": "display_data",
          "data": {
            "text/plain": [
              "Output()"
            ],
            "application/vnd.jupyter.widget-view+json": {
              "version_major": 2,
              "version_minor": 0,
              "model_id": "94ca0f0de0cc444199635252f8e388b3"
            }
          },
          "metadata": {}
        },
        {
          "output_type": "display_data",
          "data": {
            "text/plain": [
              "<IPython.core.display.Javascript object>"
            ],
            "application/javascript": [
              "\n",
              "(() => {\n",
              "    const metadata = Jupyter.notebook.metadata;\n",
              "    if (!metadata.widgets) metadata.widgets = {};\n",
              "    if (!metadata.widgets['application/vnd.jupyter.widget-state+json']) {\n",
              "        metadata.widgets['application/vnd.jupyter.widget-state+json'] = {\n",
              "            state: {},\n",
              "            version_major: 2,\n",
              "            version_minor: 0\n",
              "        };\n",
              "    } else {\n",
              "        const widget_meta = metadata.widgets['application/vnd.jupyter.widget-state+json'];\n",
              "        if (!widget_meta.state) widget_meta.state = {};\n",
              "        if (!widget_meta.version_major) widget_meta.version_major = 2;\n",
              "        if (!widget_meta.version_minor) widget_meta.version_minor = 0;\n",
              "    }\n",
              "    console.log(\"Widget metadata patched successfully.\");\n",
              "})();\n"
            ]
          },
          "metadata": {}
        }
      ],
      "source": [
        "import ipywidgets as widgets\n",
        "from IPython.display import display, Javascript\n",
        "from pulp import *\n",
        "\n",
        "# Optimization Solver Function\n",
        "def solve_optimization(profit_A_value, profit_B_value, profit_C_value):\n",
        "    # Create the optimization problem (maximize profit)\n",
        "    prob = LpProblem(\"Advanced_Production_Problem\", LpMaximize)\n",
        "\n",
        "    # Decision Variables\n",
        "    A = LpVariable(\"A\", lowBound=0, cat=LpInteger)\n",
        "    B = LpVariable(\"B\", lowBound=0)\n",
        "    C = LpVariable(\"C\", lowBound=0)\n",
        "    assembly_open = LpVariable(\"Assembly_Open\", cat=LpBinary)\n",
        "\n",
        "    # Profit values\n",
        "    profit_A = profit_A_value\n",
        "    profit_B = profit_B_value\n",
        "    profit_C = profit_C_value\n",
        "\n",
        "    # Objective Function\n",
        "    prob += profit_A*A + profit_B*B + profit_C*C, \"Profit_Objective\"\n",
        "\n",
        "    # Constraints\n",
        "    prob += 0.3*A + 0.1*B + 0.1*C <= 1800 * assembly_open, \"Assembly_Hours\"\n",
        "    prob += 0.1*A + 0.08*B + 0.04*C <= 800, \"Quality_Control_Hours\"\n",
        "    prob += 0.06*A + 0.04*B + 0.05*C <= 700, \"Packaging_Hours\"\n",
        "\n",
        "    # Minimum Demand Constraints (can be 0+)\n",
        "    prob += A >= 0, \"Min_Demand_A\"\n",
        "    prob += B >= 0, \"Min_Demand_B\"\n",
        "    prob += C >= 0, \"Min_Demand_C\"\n",
        "\n",
        "    # Solve the problem\n",
        "    prob.solve(PULP_CBC_CMD(msg=False))\n",
        "\n",
        "    # Return results\n",
        "    return {\n",
        "        \"status\": LpStatus[prob.status],\n",
        "        \"A\": A.varValue,\n",
        "        \"B\": B.varValue,\n",
        "        \"C\": C.varValue,\n",
        "        \"assembly_open\": assembly_open.varValue,\n",
        "        \"total_profit\": value(prob.objective)\n",
        "    }\n",
        "\n",
        "# Sliders for inputs\n",
        "profit_A_slider = widgets.FloatSlider(value=400, min=0, max=800, step=10, description='Profit A', continuous_update=False)\n",
        "profit_B_slider = widgets.FloatSlider(value=300, min=0, max=600, step=10, description='Profit B', continuous_update=False)\n",
        "profit_C_slider = widgets.FloatSlider(value=200, min=0, max=400, step=10, description='Profit C', continuous_update=False)\n",
        "\n",
        "output = widgets.Output()\n",
        "\n",
        "def update_results(change):\n",
        "    with output:\n",
        "        output.clear_output()\n",
        "        results = solve_optimization(profit_A_slider.value, profit_B_slider.value, profit_C_slider.value)\n",
        "        print(f\"Status: {results['status']}\")\n",
        "        print(f\"A = {results['A']}\")\n",
        "        print(f\"B = {results['B']}\")\n",
        "        print(f\"C = {results['C']}\")\n",
        "        print(f\"Assembly line OPEN = {bool(results['assembly_open'])}\")\n",
        "        print(f\"Total profit = {results['total_profit']}\")\n",
        "\n",
        "# Observe slider changes\n",
        "profit_A_slider.observe(update_results, names='value')\n",
        "profit_B_slider.observe(update_results, names='value')\n",
        "profit_C_slider.observe(update_results, names='value')\n",
        "\n",
        "# Display UI\n",
        "display(profit_A_slider, profit_B_slider, profit_C_slider, output)\n",
        "\n",
        "# Initial output\n",
        "update_results(None)\n",
        "\n",
        "# Patch notebook metadata to prevent GitHub rendering issues\n",
        "display(Javascript(\"\"\"\n",
        "(() => {\n",
        "    const metadata = Jupyter.notebook.metadata;\n",
        "    if (!metadata.widgets) metadata.widgets = {};\n",
        "    if (!metadata.widgets['application/vnd.jupyter.widget-state+json']) {\n",
        "        metadata.widgets['application/vnd.jupyter.widget-state+json'] = {\n",
        "            state: {},\n",
        "            version_major: 2,\n",
        "            version_minor: 0\n",
        "        };\n",
        "    } else {\n",
        "        const widget_meta = metadata.widgets['application/vnd.jupyter.widget-state+json'];\n",
        "        if (!widget_meta.state) widget_meta.state = {};\n",
        "        if (!widget_meta.version_major) widget_meta.version_major = 2;\n",
        "        if (!widget_meta.version_minor) widget_meta.version_minor = 0;\n",
        "    }\n",
        "    console.log(\"Widget metadata patched successfully.\");\n",
        "})();\n",
        "\"\"\"))\n"
      ]
    },
    {
      "cell_type": "markdown",
      "source": [
        "### EXPLANATION\n",
        "\n",
        "In this exercise, We created an interactive linear programming model using `ipywidgets` sliders. The purpose of this setup is to explore how different profit values for products A, B, and C affect the optimal production quantities and whether the assembly line should be opened or not.\n",
        "\n",
        "#### Decision Variables:\n",
        "- **A** – Integer variable representing the number of units of product A (e.g., beds).\n",
        "- **B** – Continuous variable representing product B (e.g., meters of high-quality plywood).\n",
        "- **C** – Continuous variable representing product C (e.g., meters of low-quality plywood).\n",
        "- **Assembly_Open** – Binary variable (1 if the assembly line is activated, 0 if not).\n",
        "\n",
        "#### Objective Function:\n",
        "The model maximizes total profit, which depends on the adjustable values from the sliders:\n",
        "\n",
        "Total Profit = profit_A * A + profit_B * B + profit_C * C\n",
        "\n",
        "\n",
        "#### Constraints:\n",
        "- **Assembly Time**: Limited to 1800 hours *only if* the assembly line is active (i.e., Assembly_Open = 1). This is modeled as:\n",
        "\n",
        "0.3A + 0.1B + 0.1*C ≤ 1800 * Assembly_Open\n",
        "\n",
        "- **Quality Control Time**: Capped at 800 hours.\n",
        "- **Packaging Time**: Capped at 700 hours.\n",
        "- **Minimum Demand**: All variables must be greater than or equal to zero. There are no strict lower bounds in this version, allowing the optimizer to decide optimal production levels based on profits.\n",
        "\n",
        "#### Interactive Sliders:\n",
        "- `Profit A`: ranges from 0 to 800\n",
        "- `Profit B`: ranges from 0 to 600\n",
        "- `Profit C`: ranges from 0 to 400\n",
        "\n",
        "Each time the user moves a slider, the model recalculates the solution using the updated profit values. The output shows:\n",
        "- Status of the solver (Optimal/Feasible/etc.)\n",
        "- Optimal values of A, B, and C\n",
        "- Whether the assembly line is used (`Assembly_Open = 1` or `0`)\n",
        "- Total profit from the production plan\n",
        "\n",
        "#### Purpose:\n",
        "This simulation helps explore different profit scenarios and decide whether or not using the assembly line is financially justified. When profit margins are low, the optimizer might choose not to produce anything and keep the assembly line closed. When profits are high, it finds the best combination of A, B, and C to maximize income while respecting all resource limits.\n",
        "\n",
        "This kind of model is useful for real-world decision-making where facility usage comes with a cost or where certain production processes can be optionally enabled or disabled based on profitability.\n",
        "\n",
        "\n"
      ],
      "metadata": {
        "id": "gkYHeuEq49ue"
      }
    }
  ],
  "metadata": {
    "kernelspec": {
      "display_name": "base",
      "language": "python",
      "name": "python3"
    },
    "language_info": {
      "codemirror_mode": {
        "name": "ipython",
        "version": 3
      },
      "file_extension": ".py",
      "mimetype": "text/x-python",
      "name": "python",
      "nbconvert_exporter": "python",
      "pygments_lexer": "ipython3",
      "version": "3.10.9"
    },
    "colab": {
      "provenance": [],
      "include_colab_link": true
    },
    "widgets": {
      "application/vnd.jupyter.widget-state+json": {
        "2521fadca03e49ddadd0f22e5ecbd4f2": {
          "model_module": "@jupyter-widgets/controls",
          "model_name": "FloatSliderModel",
          "model_module_version": "1.5.0",
          "state": {
            "_dom_classes": [],
            "_model_module": "@jupyter-widgets/controls",
            "_model_module_version": "1.5.0",
            "_model_name": "FloatSliderModel",
            "_view_count": null,
            "_view_module": "@jupyter-widgets/controls",
            "_view_module_version": "1.5.0",
            "_view_name": "FloatSliderView",
            "continuous_update": false,
            "description": "Profit A",
            "description_tooltip": null,
            "disabled": false,
            "layout": "IPY_MODEL_f8fb125b7b074fd3b0e50be2b1679731",
            "max": 800,
            "min": 0,
            "orientation": "horizontal",
            "readout": true,
            "readout_format": ".2f",
            "step": 10,
            "style": "IPY_MODEL_83630250cd6d45cebeb56b55d52603e5",
            "value": 400
          }
        },
        "f8fb125b7b074fd3b0e50be2b1679731": {
          "model_module": "@jupyter-widgets/base",
          "model_name": "LayoutModel",
          "model_module_version": "1.2.0",
          "state": {
            "_model_module": "@jupyter-widgets/base",
            "_model_module_version": "1.2.0",
            "_model_name": "LayoutModel",
            "_view_count": null,
            "_view_module": "@jupyter-widgets/base",
            "_view_module_version": "1.2.0",
            "_view_name": "LayoutView",
            "align_content": null,
            "align_items": null,
            "align_self": null,
            "border": null,
            "bottom": null,
            "display": null,
            "flex": null,
            "flex_flow": null,
            "grid_area": null,
            "grid_auto_columns": null,
            "grid_auto_flow": null,
            "grid_auto_rows": null,
            "grid_column": null,
            "grid_gap": null,
            "grid_row": null,
            "grid_template_areas": null,
            "grid_template_columns": null,
            "grid_template_rows": null,
            "height": null,
            "justify_content": null,
            "justify_items": null,
            "left": null,
            "margin": null,
            "max_height": null,
            "max_width": null,
            "min_height": null,
            "min_width": null,
            "object_fit": null,
            "object_position": null,
            "order": null,
            "overflow": null,
            "overflow_x": null,
            "overflow_y": null,
            "padding": null,
            "right": null,
            "top": null,
            "visibility": null,
            "width": null
          }
        },
        "83630250cd6d45cebeb56b55d52603e5": {
          "model_module": "@jupyter-widgets/controls",
          "model_name": "SliderStyleModel",
          "model_module_version": "1.5.0",
          "state": {
            "_model_module": "@jupyter-widgets/controls",
            "_model_module_version": "1.5.0",
            "_model_name": "SliderStyleModel",
            "_view_count": null,
            "_view_module": "@jupyter-widgets/base",
            "_view_module_version": "1.2.0",
            "_view_name": "StyleView",
            "description_width": "",
            "handle_color": null
          }
        },
        "af9a02ccd7be40429efdb38b356e8e87": {
          "model_module": "@jupyter-widgets/controls",
          "model_name": "FloatSliderModel",
          "model_module_version": "1.5.0",
          "state": {
            "_dom_classes": [],
            "_model_module": "@jupyter-widgets/controls",
            "_model_module_version": "1.5.0",
            "_model_name": "FloatSliderModel",
            "_view_count": null,
            "_view_module": "@jupyter-widgets/controls",
            "_view_module_version": "1.5.0",
            "_view_name": "FloatSliderView",
            "continuous_update": false,
            "description": "Profit B",
            "description_tooltip": null,
            "disabled": false,
            "layout": "IPY_MODEL_6eae261af83a443f81643289088d8444",
            "max": 600,
            "min": 0,
            "orientation": "horizontal",
            "readout": true,
            "readout_format": ".2f",
            "step": 10,
            "style": "IPY_MODEL_3df514f3518f4b32a52d40029b855475",
            "value": 300
          }
        },
        "6eae261af83a443f81643289088d8444": {
          "model_module": "@jupyter-widgets/base",
          "model_name": "LayoutModel",
          "model_module_version": "1.2.0",
          "state": {
            "_model_module": "@jupyter-widgets/base",
            "_model_module_version": "1.2.0",
            "_model_name": "LayoutModel",
            "_view_count": null,
            "_view_module": "@jupyter-widgets/base",
            "_view_module_version": "1.2.0",
            "_view_name": "LayoutView",
            "align_content": null,
            "align_items": null,
            "align_self": null,
            "border": null,
            "bottom": null,
            "display": null,
            "flex": null,
            "flex_flow": null,
            "grid_area": null,
            "grid_auto_columns": null,
            "grid_auto_flow": null,
            "grid_auto_rows": null,
            "grid_column": null,
            "grid_gap": null,
            "grid_row": null,
            "grid_template_areas": null,
            "grid_template_columns": null,
            "grid_template_rows": null,
            "height": null,
            "justify_content": null,
            "justify_items": null,
            "left": null,
            "margin": null,
            "max_height": null,
            "max_width": null,
            "min_height": null,
            "min_width": null,
            "object_fit": null,
            "object_position": null,
            "order": null,
            "overflow": null,
            "overflow_x": null,
            "overflow_y": null,
            "padding": null,
            "right": null,
            "top": null,
            "visibility": null,
            "width": null
          }
        },
        "3df514f3518f4b32a52d40029b855475": {
          "model_module": "@jupyter-widgets/controls",
          "model_name": "SliderStyleModel",
          "model_module_version": "1.5.0",
          "state": {
            "_model_module": "@jupyter-widgets/controls",
            "_model_module_version": "1.5.0",
            "_model_name": "SliderStyleModel",
            "_view_count": null,
            "_view_module": "@jupyter-widgets/base",
            "_view_module_version": "1.2.0",
            "_view_name": "StyleView",
            "description_width": "",
            "handle_color": null
          }
        },
        "7b3c24afdbda4cfbbe61a762c9f87e2a": {
          "model_module": "@jupyter-widgets/controls",
          "model_name": "FloatSliderModel",
          "model_module_version": "1.5.0",
          "state": {
            "_dom_classes": [],
            "_model_module": "@jupyter-widgets/controls",
            "_model_module_version": "1.5.0",
            "_model_name": "FloatSliderModel",
            "_view_count": null,
            "_view_module": "@jupyter-widgets/controls",
            "_view_module_version": "1.5.0",
            "_view_name": "FloatSliderView",
            "continuous_update": false,
            "description": "Profit C",
            "description_tooltip": null,
            "disabled": false,
            "layout": "IPY_MODEL_21ffccb362414d07a0568ac0d03ce1ef",
            "max": 400,
            "min": 0,
            "orientation": "horizontal",
            "readout": true,
            "readout_format": ".2f",
            "step": 10,
            "style": "IPY_MODEL_1f73c34aad0b497c854407828db11005",
            "value": 200
          }
        },
        "21ffccb362414d07a0568ac0d03ce1ef": {
          "model_module": "@jupyter-widgets/base",
          "model_name": "LayoutModel",
          "model_module_version": "1.2.0",
          "state": {
            "_model_module": "@jupyter-widgets/base",
            "_model_module_version": "1.2.0",
            "_model_name": "LayoutModel",
            "_view_count": null,
            "_view_module": "@jupyter-widgets/base",
            "_view_module_version": "1.2.0",
            "_view_name": "LayoutView",
            "align_content": null,
            "align_items": null,
            "align_self": null,
            "border": null,
            "bottom": null,
            "display": null,
            "flex": null,
            "flex_flow": null,
            "grid_area": null,
            "grid_auto_columns": null,
            "grid_auto_flow": null,
            "grid_auto_rows": null,
            "grid_column": null,
            "grid_gap": null,
            "grid_row": null,
            "grid_template_areas": null,
            "grid_template_columns": null,
            "grid_template_rows": null,
            "height": null,
            "justify_content": null,
            "justify_items": null,
            "left": null,
            "margin": null,
            "max_height": null,
            "max_width": null,
            "min_height": null,
            "min_width": null,
            "object_fit": null,
            "object_position": null,
            "order": null,
            "overflow": null,
            "overflow_x": null,
            "overflow_y": null,
            "padding": null,
            "right": null,
            "top": null,
            "visibility": null,
            "width": null
          }
        },
        "1f73c34aad0b497c854407828db11005": {
          "model_module": "@jupyter-widgets/controls",
          "model_name": "SliderStyleModel",
          "model_module_version": "1.5.0",
          "state": {
            "_model_module": "@jupyter-widgets/controls",
            "_model_module_version": "1.5.0",
            "_model_name": "SliderStyleModel",
            "_view_count": null,
            "_view_module": "@jupyter-widgets/base",
            "_view_module_version": "1.2.0",
            "_view_name": "StyleView",
            "description_width": "",
            "handle_color": null
          }
        },
        "94ca0f0de0cc444199635252f8e388b3": {
          "model_module": "@jupyter-widgets/output",
          "model_name": "OutputModel",
          "model_module_version": "1.0.0",
          "state": {
            "_dom_classes": [],
            "_model_module": "@jupyter-widgets/output",
            "_model_module_version": "1.0.0",
            "_model_name": "OutputModel",
            "_view_count": null,
            "_view_module": "@jupyter-widgets/output",
            "_view_module_version": "1.0.0",
            "_view_name": "OutputView",
            "layout": "IPY_MODEL_b7443e6385c24772bd591bb1c8fc5893",
            "msg_id": "",
            "outputs": [
              {
                "output_type": "stream",
                "name": "stdout",
                "text": [
                  "Status: Optimal\n",
                  "A = 1894.0\n",
                  "B = 2948.1667\n",
                  "C = 9368.6667\n",
                  "Assembly line OPEN = True\n",
                  "Total profit = 3515783.3499999996\n"
                ]
              }
            ]
          }
        },
        "b7443e6385c24772bd591bb1c8fc5893": {
          "model_module": "@jupyter-widgets/base",
          "model_name": "LayoutModel",
          "model_module_version": "1.2.0",
          "state": {
            "_model_module": "@jupyter-widgets/base",
            "_model_module_version": "1.2.0",
            "_model_name": "LayoutModel",
            "_view_count": null,
            "_view_module": "@jupyter-widgets/base",
            "_view_module_version": "1.2.0",
            "_view_name": "LayoutView",
            "align_content": null,
            "align_items": null,
            "align_self": null,
            "border": null,
            "bottom": null,
            "display": null,
            "flex": null,
            "flex_flow": null,
            "grid_area": null,
            "grid_auto_columns": null,
            "grid_auto_flow": null,
            "grid_auto_rows": null,
            "grid_column": null,
            "grid_gap": null,
            "grid_row": null,
            "grid_template_areas": null,
            "grid_template_columns": null,
            "grid_template_rows": null,
            "height": null,
            "justify_content": null,
            "justify_items": null,
            "left": null,
            "margin": null,
            "max_height": null,
            "max_width": null,
            "min_height": null,
            "min_width": null,
            "object_fit": null,
            "object_position": null,
            "order": null,
            "overflow": null,
            "overflow_x": null,
            "overflow_y": null,
            "padding": null,
            "right": null,
            "top": null,
            "visibility": null,
            "width": null
          }
        }
      }
    }
  },
  "nbformat": 4,
  "nbformat_minor": 0
}